{
 "cells": [
  {
   "cell_type": "code",
   "execution_count": 1,
   "metadata": {},
   "outputs": [],
   "source": [
    "\n",
    "import pandas as pd\n",
    "\n",
    "import matplotlib.pyplot as plt\n",
    "import seaborn as sns\n"
   ]
  },
  {
   "cell_type": "code",
   "execution_count": 2,
   "metadata": {},
   "outputs": [],
   "source": [
    "water=pd.read_csv(\"Cities1.csv\")"
   ]
  },
  {
   "cell_type": "code",
   "execution_count": 3,
   "metadata": {},
   "outputs": [
    {
     "data": {
      "text/plain": [
       "Index(['City', 'Region', 'Country', 'AirQuality', 'WaterPollution'], dtype='object')"
      ]
     },
     "execution_count": 3,
     "metadata": {},
     "output_type": "execute_result"
    }
   ],
   "source": [
    "water.keys()"
   ]
  },
  {
   "cell_type": "code",
   "execution_count": 4,
   "metadata": {},
   "outputs": [],
   "source": [
    "life=pd.read_csv(\"Life Expectancy Data.csv\")"
   ]
  },
  {
   "cell_type": "code",
   "execution_count": 5,
   "metadata": {},
   "outputs": [
    {
     "data": {
      "text/plain": [
       "Index(['Country', 'Year', 'Status', 'Life expectancy ', 'Adult Mortality',\n",
       "       'infant deaths', 'Alcohol', 'percentage expenditure', 'Hepatitis B',\n",
       "       'Measles ', ' BMI ', 'under-five deaths ', 'Polio', 'Total expenditure',\n",
       "       'Diphtheria ', ' HIV/AIDS', 'GDP', 'Population',\n",
       "       ' thinness  1-19 years', ' thinness 5-9 years',\n",
       "       'Income composition of resources', 'Schooling'],\n",
       "      dtype='object')"
      ]
     },
     "execution_count": 5,
     "metadata": {},
     "output_type": "execute_result"
    }
   ],
   "source": [
    "life.keys()"
   ]
  },
  {
   "cell_type": "code",
   "execution_count": 6,
   "metadata": {},
   "outputs": [],
   "source": [
    "life=life.groupby([\"Country\"]).agg({\"Life expectancy \":\"mean\", \"Hepatitis B\":\"mean\", \"Adult Mortality\":\"mean\"})"
   ]
  },
  {
   "cell_type": "code",
   "execution_count": 7,
   "metadata": {},
   "outputs": [
    {
     "data": {
      "text/html": [
       "<div>\n",
       "<style scoped>\n",
       "    .dataframe tbody tr th:only-of-type {\n",
       "        vertical-align: middle;\n",
       "    }\n",
       "\n",
       "    .dataframe tbody tr th {\n",
       "        vertical-align: top;\n",
       "    }\n",
       "\n",
       "    .dataframe thead th {\n",
       "        text-align: right;\n",
       "    }\n",
       "</style>\n",
       "<table border=\"1\" class=\"dataframe\">\n",
       "  <thead>\n",
       "    <tr style=\"text-align: right;\">\n",
       "      <th></th>\n",
       "      <th>Life expectancy</th>\n",
       "      <th>Hepatitis B</th>\n",
       "      <th>Adult Mortality</th>\n",
       "    </tr>\n",
       "    <tr>\n",
       "      <th>Country</th>\n",
       "      <th></th>\n",
       "      <th></th>\n",
       "      <th></th>\n",
       "    </tr>\n",
       "  </thead>\n",
       "  <tbody>\n",
       "    <tr>\n",
       "      <th>Afghanistan</th>\n",
       "      <td>58.19375</td>\n",
       "      <td>64.562500</td>\n",
       "      <td>269.0625</td>\n",
       "    </tr>\n",
       "    <tr>\n",
       "      <th>Albania</th>\n",
       "      <td>75.15625</td>\n",
       "      <td>98.000000</td>\n",
       "      <td>45.0625</td>\n",
       "    </tr>\n",
       "    <tr>\n",
       "      <th>Algeria</th>\n",
       "      <td>73.61875</td>\n",
       "      <td>78.000000</td>\n",
       "      <td>108.1875</td>\n",
       "    </tr>\n",
       "    <tr>\n",
       "      <th>Angola</th>\n",
       "      <td>49.01875</td>\n",
       "      <td>70.222222</td>\n",
       "      <td>328.5625</td>\n",
       "    </tr>\n",
       "    <tr>\n",
       "      <th>Antigua and Barbuda</th>\n",
       "      <td>75.05625</td>\n",
       "      <td>98.266667</td>\n",
       "      <td>127.5000</td>\n",
       "    </tr>\n",
       "    <tr>\n",
       "      <th>...</th>\n",
       "      <td>...</td>\n",
       "      <td>...</td>\n",
       "      <td>...</td>\n",
       "    </tr>\n",
       "    <tr>\n",
       "      <th>Venezuela (Bolivarian Republic of)</th>\n",
       "      <td>73.38750</td>\n",
       "      <td>66.250000</td>\n",
       "      <td>163.0000</td>\n",
       "    </tr>\n",
       "    <tr>\n",
       "      <th>Viet Nam</th>\n",
       "      <td>74.77500</td>\n",
       "      <td>87.538462</td>\n",
       "      <td>126.5625</td>\n",
       "    </tr>\n",
       "    <tr>\n",
       "      <th>Yemen</th>\n",
       "      <td>63.86250</td>\n",
       "      <td>55.687500</td>\n",
       "      <td>211.8125</td>\n",
       "    </tr>\n",
       "    <tr>\n",
       "      <th>Zambia</th>\n",
       "      <td>53.90625</td>\n",
       "      <td>69.818182</td>\n",
       "      <td>354.3125</td>\n",
       "    </tr>\n",
       "    <tr>\n",
       "      <th>Zimbabwe</th>\n",
       "      <td>50.48750</td>\n",
       "      <td>70.562500</td>\n",
       "      <td>462.3750</td>\n",
       "    </tr>\n",
       "  </tbody>\n",
       "</table>\n",
       "<p>193 rows × 3 columns</p>\n",
       "</div>"
      ],
      "text/plain": [
       "                                    Life expectancy   Hepatitis B  \\\n",
       "Country                                                             \n",
       "Afghanistan                                 58.19375    64.562500   \n",
       "Albania                                     75.15625    98.000000   \n",
       "Algeria                                     73.61875    78.000000   \n",
       "Angola                                      49.01875    70.222222   \n",
       "Antigua and Barbuda                         75.05625    98.266667   \n",
       "...                                              ...          ...   \n",
       "Venezuela (Bolivarian Republic of)          73.38750    66.250000   \n",
       "Viet Nam                                    74.77500    87.538462   \n",
       "Yemen                                       63.86250    55.687500   \n",
       "Zambia                                      53.90625    69.818182   \n",
       "Zimbabwe                                    50.48750    70.562500   \n",
       "\n",
       "                                    Adult Mortality  \n",
       "Country                                              \n",
       "Afghanistan                                269.0625  \n",
       "Albania                                     45.0625  \n",
       "Algeria                                    108.1875  \n",
       "Angola                                     328.5625  \n",
       "Antigua and Barbuda                        127.5000  \n",
       "...                                             ...  \n",
       "Venezuela (Bolivarian Republic of)         163.0000  \n",
       "Viet Nam                                   126.5625  \n",
       "Yemen                                      211.8125  \n",
       "Zambia                                     354.3125  \n",
       "Zimbabwe                                   462.3750  \n",
       "\n",
       "[193 rows x 3 columns]"
      ]
     },
     "execution_count": 7,
     "metadata": {},
     "output_type": "execute_result"
    }
   ],
   "source": [
    "life"
   ]
  },
  {
   "cell_type": "code",
   "execution_count": 8,
   "metadata": {},
   "outputs": [],
   "source": [
    "water=water.groupby([\"Country\"]).agg({\"WaterPollution\":\"mean\", \"AirQuality\":\"mean\"})"
   ]
  },
  {
   "cell_type": "code",
   "execution_count": 9,
   "metadata": {},
   "outputs": [
    {
     "data": {
      "text/html": [
       "<div>\n",
       "<style scoped>\n",
       "    .dataframe tbody tr th:only-of-type {\n",
       "        vertical-align: middle;\n",
       "    }\n",
       "\n",
       "    .dataframe tbody tr th {\n",
       "        vertical-align: top;\n",
       "    }\n",
       "\n",
       "    .dataframe thead th {\n",
       "        text-align: right;\n",
       "    }\n",
       "</style>\n",
       "<table border=\"1\" class=\"dataframe\">\n",
       "  <thead>\n",
       "    <tr style=\"text-align: right;\">\n",
       "      <th></th>\n",
       "      <th>WaterPollution</th>\n",
       "      <th>AirQuality</th>\n",
       "    </tr>\n",
       "    <tr>\n",
       "      <th>Country</th>\n",
       "      <th></th>\n",
       "      <th></th>\n",
       "    </tr>\n",
       "  </thead>\n",
       "  <tbody>\n",
       "    <tr>\n",
       "      <th>Afghanistan</th>\n",
       "      <td>53.440657</td>\n",
       "      <td>37.213694</td>\n",
       "    </tr>\n",
       "    <tr>\n",
       "      <th>Albania</th>\n",
       "      <td>57.834201</td>\n",
       "      <td>51.873625</td>\n",
       "    </tr>\n",
       "    <tr>\n",
       "      <th>Algeria</th>\n",
       "      <td>50.623043</td>\n",
       "      <td>57.607466</td>\n",
       "    </tr>\n",
       "    <tr>\n",
       "      <th>Andorra</th>\n",
       "      <td>25.000000</td>\n",
       "      <td>43.750000</td>\n",
       "    </tr>\n",
       "    <tr>\n",
       "      <th>Angola</th>\n",
       "      <td>81.250000</td>\n",
       "      <td>15.000000</td>\n",
       "    </tr>\n",
       "    <tr>\n",
       "      <th>...</th>\n",
       "      <td>...</td>\n",
       "      <td>...</td>\n",
       "    </tr>\n",
       "    <tr>\n",
       "      <th>Venezuela</th>\n",
       "      <td>78.549637</td>\n",
       "      <td>36.514509</td>\n",
       "    </tr>\n",
       "    <tr>\n",
       "      <th>Vietnam</th>\n",
       "      <td>65.526918</td>\n",
       "      <td>44.557443</td>\n",
       "    </tr>\n",
       "    <tr>\n",
       "      <th>Yemen</th>\n",
       "      <td>85.416667</td>\n",
       "      <td>39.583333</td>\n",
       "    </tr>\n",
       "    <tr>\n",
       "      <th>Zambia</th>\n",
       "      <td>80.769231</td>\n",
       "      <td>45.833333</td>\n",
       "    </tr>\n",
       "    <tr>\n",
       "      <th>Zimbabwe</th>\n",
       "      <td>74.107143</td>\n",
       "      <td>45.329670</td>\n",
       "    </tr>\n",
       "  </tbody>\n",
       "</table>\n",
       "<p>177 rows × 2 columns</p>\n",
       "</div>"
      ],
      "text/plain": [
       "             WaterPollution  AirQuality\n",
       "Country                                \n",
       "Afghanistan       53.440657   37.213694\n",
       "Albania           57.834201   51.873625\n",
       "Algeria           50.623043   57.607466\n",
       "Andorra           25.000000   43.750000\n",
       "Angola            81.250000   15.000000\n",
       "...                     ...         ...\n",
       "Venezuela         78.549637   36.514509\n",
       "Vietnam           65.526918   44.557443\n",
       "Yemen             85.416667   39.583333\n",
       "Zambia            80.769231   45.833333\n",
       "Zimbabwe          74.107143   45.329670\n",
       "\n",
       "[177 rows x 2 columns]"
      ]
     },
     "execution_count": 9,
     "metadata": {},
     "output_type": "execute_result"
    }
   ],
   "source": [
    "water"
   ]
  },
  {
   "cell_type": "code",
   "execution_count": 10,
   "metadata": {},
   "outputs": [
    {
     "data": {
      "text/html": [
       "<div>\n",
       "<style scoped>\n",
       "    .dataframe tbody tr th:only-of-type {\n",
       "        vertical-align: middle;\n",
       "    }\n",
       "\n",
       "    .dataframe tbody tr th {\n",
       "        vertical-align: top;\n",
       "    }\n",
       "\n",
       "    .dataframe thead th {\n",
       "        text-align: right;\n",
       "    }\n",
       "</style>\n",
       "<table border=\"1\" class=\"dataframe\">\n",
       "  <thead>\n",
       "    <tr style=\"text-align: right;\">\n",
       "      <th></th>\n",
       "      <th>WaterPollution</th>\n",
       "      <th>AirQuality</th>\n",
       "      <th>Life expectancy</th>\n",
       "      <th>Hepatitis B</th>\n",
       "      <th>Adult Mortality</th>\n",
       "      <th>Population</th>\n",
       "    </tr>\n",
       "    <tr>\n",
       "      <th>Country</th>\n",
       "      <th></th>\n",
       "      <th></th>\n",
       "      <th></th>\n",
       "      <th></th>\n",
       "      <th></th>\n",
       "      <th></th>\n",
       "    </tr>\n",
       "  </thead>\n",
       "  <tbody>\n",
       "    <tr>\n",
       "      <th>Afghanistan</th>\n",
       "      <td>53.440657</td>\n",
       "      <td>37.213694</td>\n",
       "      <td>58.19375</td>\n",
       "      <td>64.562500</td>\n",
       "      <td>269.0625</td>\n",
       "      <td>41128771</td>\n",
       "    </tr>\n",
       "    <tr>\n",
       "      <th>Albania</th>\n",
       "      <td>57.834201</td>\n",
       "      <td>51.873625</td>\n",
       "      <td>75.15625</td>\n",
       "      <td>98.000000</td>\n",
       "      <td>45.0625</td>\n",
       "      <td>2842321</td>\n",
       "    </tr>\n",
       "    <tr>\n",
       "      <th>Algeria</th>\n",
       "      <td>50.623043</td>\n",
       "      <td>57.607466</td>\n",
       "      <td>73.61875</td>\n",
       "      <td>78.000000</td>\n",
       "      <td>108.1875</td>\n",
       "      <td>44903225</td>\n",
       "    </tr>\n",
       "    <tr>\n",
       "      <th>Angola</th>\n",
       "      <td>81.250000</td>\n",
       "      <td>15.000000</td>\n",
       "      <td>49.01875</td>\n",
       "      <td>70.222222</td>\n",
       "      <td>328.5625</td>\n",
       "      <td>35588987</td>\n",
       "    </tr>\n",
       "    <tr>\n",
       "      <th>Argentina</th>\n",
       "      <td>54.276152</td>\n",
       "      <td>68.147781</td>\n",
       "      <td>75.15625</td>\n",
       "      <td>81.285714</td>\n",
       "      <td>106.0000</td>\n",
       "      <td>45510318</td>\n",
       "    </tr>\n",
       "    <tr>\n",
       "      <th>...</th>\n",
       "      <td>...</td>\n",
       "      <td>...</td>\n",
       "      <td>...</td>\n",
       "      <td>...</td>\n",
       "      <td>...</td>\n",
       "      <td>...</td>\n",
       "    </tr>\n",
       "    <tr>\n",
       "      <th>Uzbekistan</th>\n",
       "      <td>49.166667</td>\n",
       "      <td>56.451613</td>\n",
       "      <td>68.03125</td>\n",
       "      <td>95.642857</td>\n",
       "      <td>184.8125</td>\n",
       "      <td>34627652</td>\n",
       "    </tr>\n",
       "    <tr>\n",
       "      <th>Vanuatu</th>\n",
       "      <td>70.000000</td>\n",
       "      <td>75.000000</td>\n",
       "      <td>71.38750</td>\n",
       "      <td>56.125000</td>\n",
       "      <td>137.8750</td>\n",
       "      <td>326740</td>\n",
       "    </tr>\n",
       "    <tr>\n",
       "      <th>Yemen</th>\n",
       "      <td>85.416667</td>\n",
       "      <td>39.583333</td>\n",
       "      <td>63.86250</td>\n",
       "      <td>55.687500</td>\n",
       "      <td>211.8125</td>\n",
       "      <td>33696614</td>\n",
       "    </tr>\n",
       "    <tr>\n",
       "      <th>Zambia</th>\n",
       "      <td>80.769231</td>\n",
       "      <td>45.833333</td>\n",
       "      <td>53.90625</td>\n",
       "      <td>69.818182</td>\n",
       "      <td>354.3125</td>\n",
       "      <td>20017675</td>\n",
       "    </tr>\n",
       "    <tr>\n",
       "      <th>Zimbabwe</th>\n",
       "      <td>74.107143</td>\n",
       "      <td>45.329670</td>\n",
       "      <td>50.48750</td>\n",
       "      <td>70.562500</td>\n",
       "      <td>462.3750</td>\n",
       "      <td>16320537</td>\n",
       "    </tr>\n",
       "  </tbody>\n",
       "</table>\n",
       "<p>152 rows × 6 columns</p>\n",
       "</div>"
      ],
      "text/plain": [
       "             WaterPollution  AirQuality  Life expectancy   Hepatitis B  \\\n",
       "Country                                                                  \n",
       "Afghanistan       53.440657   37.213694          58.19375    64.562500   \n",
       "Albania           57.834201   51.873625          75.15625    98.000000   \n",
       "Algeria           50.623043   57.607466          73.61875    78.000000   \n",
       "Angola            81.250000   15.000000          49.01875    70.222222   \n",
       "Argentina         54.276152   68.147781          75.15625    81.285714   \n",
       "...                     ...         ...               ...          ...   \n",
       "Uzbekistan        49.166667   56.451613          68.03125    95.642857   \n",
       "Vanuatu           70.000000   75.000000          71.38750    56.125000   \n",
       "Yemen             85.416667   39.583333          63.86250    55.687500   \n",
       "Zambia            80.769231   45.833333          53.90625    69.818182   \n",
       "Zimbabwe          74.107143   45.329670          50.48750    70.562500   \n",
       "\n",
       "             Adult Mortality  Population  \n",
       "Country                                   \n",
       "Afghanistan         269.0625    41128771  \n",
       "Albania              45.0625     2842321  \n",
       "Algeria             108.1875    44903225  \n",
       "Angola              328.5625    35588987  \n",
       "Argentina           106.0000    45510318  \n",
       "...                      ...         ...  \n",
       "Uzbekistan          184.8125    34627652  \n",
       "Vanuatu             137.8750      326740  \n",
       "Yemen               211.8125    33696614  \n",
       "Zambia              354.3125    20017675  \n",
       "Zimbabwe            462.3750    16320537  \n",
       "\n",
       "[152 rows x 6 columns]"
      ]
     },
     "execution_count": 10,
     "metadata": {},
     "output_type": "execute_result"
    }
   ],
   "source": [
    "popu=pd.read_csv(\"world_population.csv\")\n",
    "popu.keys()\n",
    "popu.rename(columns= {\"Country/Territory\": \"Country\"}, inplace=True)\n",
    "popu=popu.groupby([\"Country\"]).agg({\"2022 Population\":\"sum\"})\n",
    "wife=pd.merge(water,life,on=\"Country\")\n",
    "wife=pd.merge(wife,popu,on=\"Country\")\n",
    "wife.rename(columns= {\"2022 Population\": \"Population\"}, inplace=True)\n",
    "wife"
   ]
  },
  {
   "cell_type": "code",
   "execution_count": 11,
   "metadata": {},
   "outputs": [
    {
     "data": {
      "text/html": [
       "<div>\n",
       "<style scoped>\n",
       "    .dataframe tbody tr th:only-of-type {\n",
       "        vertical-align: middle;\n",
       "    }\n",
       "\n",
       "    .dataframe tbody tr th {\n",
       "        vertical-align: top;\n",
       "    }\n",
       "\n",
       "    .dataframe thead th {\n",
       "        text-align: right;\n",
       "    }\n",
       "</style>\n",
       "<table border=\"1\" class=\"dataframe\">\n",
       "  <thead>\n",
       "    <tr style=\"text-align: right;\">\n",
       "      <th></th>\n",
       "      <th>WaterPollution</th>\n",
       "      <th>AirQuality</th>\n",
       "      <th>Life expectancy</th>\n",
       "      <th>Hepatitis B</th>\n",
       "      <th>Adult Mortality</th>\n",
       "      <th>Population</th>\n",
       "    </tr>\n",
       "    <tr>\n",
       "      <th>Country</th>\n",
       "      <th></th>\n",
       "      <th></th>\n",
       "      <th></th>\n",
       "      <th></th>\n",
       "      <th></th>\n",
       "      <th></th>\n",
       "    </tr>\n",
       "  </thead>\n",
       "  <tbody>\n",
       "    <tr>\n",
       "      <th>Afghanistan</th>\n",
       "      <td>53.440657</td>\n",
       "      <td>37.213694</td>\n",
       "      <td>58.19375</td>\n",
       "      <td>64.562500</td>\n",
       "      <td>269.0625</td>\n",
       "      <td>41128771</td>\n",
       "    </tr>\n",
       "    <tr>\n",
       "      <th>Albania</th>\n",
       "      <td>57.834201</td>\n",
       "      <td>51.873625</td>\n",
       "      <td>75.15625</td>\n",
       "      <td>98.000000</td>\n",
       "      <td>45.0625</td>\n",
       "      <td>2842321</td>\n",
       "    </tr>\n",
       "    <tr>\n",
       "      <th>Algeria</th>\n",
       "      <td>50.623043</td>\n",
       "      <td>57.607466</td>\n",
       "      <td>73.61875</td>\n",
       "      <td>78.000000</td>\n",
       "      <td>108.1875</td>\n",
       "      <td>44903225</td>\n",
       "    </tr>\n",
       "    <tr>\n",
       "      <th>Angola</th>\n",
       "      <td>81.250000</td>\n",
       "      <td>15.000000</td>\n",
       "      <td>49.01875</td>\n",
       "      <td>70.222222</td>\n",
       "      <td>328.5625</td>\n",
       "      <td>35588987</td>\n",
       "    </tr>\n",
       "    <tr>\n",
       "      <th>Argentina</th>\n",
       "      <td>54.276152</td>\n",
       "      <td>68.147781</td>\n",
       "      <td>75.15625</td>\n",
       "      <td>81.285714</td>\n",
       "      <td>106.0000</td>\n",
       "      <td>45510318</td>\n",
       "    </tr>\n",
       "    <tr>\n",
       "      <th>...</th>\n",
       "      <td>...</td>\n",
       "      <td>...</td>\n",
       "      <td>...</td>\n",
       "      <td>...</td>\n",
       "      <td>...</td>\n",
       "      <td>...</td>\n",
       "    </tr>\n",
       "    <tr>\n",
       "      <th>Uzbekistan</th>\n",
       "      <td>49.166667</td>\n",
       "      <td>56.451613</td>\n",
       "      <td>68.03125</td>\n",
       "      <td>95.642857</td>\n",
       "      <td>184.8125</td>\n",
       "      <td>34627652</td>\n",
       "    </tr>\n",
       "    <tr>\n",
       "      <th>Vanuatu</th>\n",
       "      <td>70.000000</td>\n",
       "      <td>75.000000</td>\n",
       "      <td>71.38750</td>\n",
       "      <td>56.125000</td>\n",
       "      <td>137.8750</td>\n",
       "      <td>326740</td>\n",
       "    </tr>\n",
       "    <tr>\n",
       "      <th>Yemen</th>\n",
       "      <td>85.416667</td>\n",
       "      <td>39.583333</td>\n",
       "      <td>63.86250</td>\n",
       "      <td>55.687500</td>\n",
       "      <td>211.8125</td>\n",
       "      <td>33696614</td>\n",
       "    </tr>\n",
       "    <tr>\n",
       "      <th>Zambia</th>\n",
       "      <td>80.769231</td>\n",
       "      <td>45.833333</td>\n",
       "      <td>53.90625</td>\n",
       "      <td>69.818182</td>\n",
       "      <td>354.3125</td>\n",
       "      <td>20017675</td>\n",
       "    </tr>\n",
       "    <tr>\n",
       "      <th>Zimbabwe</th>\n",
       "      <td>74.107143</td>\n",
       "      <td>45.329670</td>\n",
       "      <td>50.48750</td>\n",
       "      <td>70.562500</td>\n",
       "      <td>462.3750</td>\n",
       "      <td>16320537</td>\n",
       "    </tr>\n",
       "  </tbody>\n",
       "</table>\n",
       "<p>152 rows × 6 columns</p>\n",
       "</div>"
      ],
      "text/plain": [
       "             WaterPollution  AirQuality  Life expectancy   Hepatitis B  \\\n",
       "Country                                                                  \n",
       "Afghanistan       53.440657   37.213694          58.19375    64.562500   \n",
       "Albania           57.834201   51.873625          75.15625    98.000000   \n",
       "Algeria           50.623043   57.607466          73.61875    78.000000   \n",
       "Angola            81.250000   15.000000          49.01875    70.222222   \n",
       "Argentina         54.276152   68.147781          75.15625    81.285714   \n",
       "...                     ...         ...               ...          ...   \n",
       "Uzbekistan        49.166667   56.451613          68.03125    95.642857   \n",
       "Vanuatu           70.000000   75.000000          71.38750    56.125000   \n",
       "Yemen             85.416667   39.583333          63.86250    55.687500   \n",
       "Zambia            80.769231   45.833333          53.90625    69.818182   \n",
       "Zimbabwe          74.107143   45.329670          50.48750    70.562500   \n",
       "\n",
       "             Adult Mortality  Population  \n",
       "Country                                   \n",
       "Afghanistan         269.0625    41128771  \n",
       "Albania              45.0625     2842321  \n",
       "Algeria             108.1875    44903225  \n",
       "Angola              328.5625    35588987  \n",
       "Argentina           106.0000    45510318  \n",
       "...                      ...         ...  \n",
       "Uzbekistan          184.8125    34627652  \n",
       "Vanuatu             137.8750      326740  \n",
       "Yemen               211.8125    33696614  \n",
       "Zambia              354.3125    20017675  \n",
       "Zimbabwe            462.3750    16320537  \n",
       "\n",
       "[152 rows x 6 columns]"
      ]
     },
     "execution_count": 11,
     "metadata": {},
     "output_type": "execute_result"
    }
   ],
   "source": [
    "wife"
   ]
  },
  {
   "cell_type": "code",
   "execution_count": 12,
   "metadata": {},
   "outputs": [
    {
     "data": {
      "text/plain": [
       "WaterPollution      0\n",
       "AirQuality          0\n",
       "Life expectancy     4\n",
       "Hepatitis B         7\n",
       "Adult Mortality     4\n",
       "Population          0\n",
       "dtype: int64"
      ]
     },
     "execution_count": 12,
     "metadata": {},
     "output_type": "execute_result"
    }
   ],
   "source": [
    "wife.isna().sum()"
   ]
  },
  {
   "cell_type": "code",
   "execution_count": 13,
   "metadata": {},
   "outputs": [],
   "source": [
    "wife.dropna(inplace=True)\n"
   ]
  },
  {
   "cell_type": "code",
   "execution_count": 14,
   "metadata": {},
   "outputs": [
    {
     "data": {
      "text/html": [
       "<div>\n",
       "<style scoped>\n",
       "    .dataframe tbody tr th:only-of-type {\n",
       "        vertical-align: middle;\n",
       "    }\n",
       "\n",
       "    .dataframe tbody tr th {\n",
       "        vertical-align: top;\n",
       "    }\n",
       "\n",
       "    .dataframe thead th {\n",
       "        text-align: right;\n",
       "    }\n",
       "</style>\n",
       "<table border=\"1\" class=\"dataframe\">\n",
       "  <thead>\n",
       "    <tr style=\"text-align: right;\">\n",
       "      <th></th>\n",
       "      <th>WaterPollution</th>\n",
       "      <th>AirQuality</th>\n",
       "      <th>Life expectancy</th>\n",
       "      <th>Hepatitis B</th>\n",
       "      <th>Adult Mortality</th>\n",
       "      <th>Population</th>\n",
       "    </tr>\n",
       "    <tr>\n",
       "      <th>Country</th>\n",
       "      <th></th>\n",
       "      <th></th>\n",
       "      <th></th>\n",
       "      <th></th>\n",
       "      <th></th>\n",
       "      <th></th>\n",
       "    </tr>\n",
       "  </thead>\n",
       "  <tbody>\n",
       "    <tr>\n",
       "      <th>Afghanistan</th>\n",
       "      <td>53.440657</td>\n",
       "      <td>37.213694</td>\n",
       "      <td>58.19375</td>\n",
       "      <td>64.562500</td>\n",
       "      <td>269.0625</td>\n",
       "      <td>41128771</td>\n",
       "    </tr>\n",
       "    <tr>\n",
       "      <th>Albania</th>\n",
       "      <td>57.834201</td>\n",
       "      <td>51.873625</td>\n",
       "      <td>75.15625</td>\n",
       "      <td>98.000000</td>\n",
       "      <td>45.0625</td>\n",
       "      <td>2842321</td>\n",
       "    </tr>\n",
       "    <tr>\n",
       "      <th>Algeria</th>\n",
       "      <td>50.623043</td>\n",
       "      <td>57.607466</td>\n",
       "      <td>73.61875</td>\n",
       "      <td>78.000000</td>\n",
       "      <td>108.1875</td>\n",
       "      <td>44903225</td>\n",
       "    </tr>\n",
       "    <tr>\n",
       "      <th>Angola</th>\n",
       "      <td>81.250000</td>\n",
       "      <td>15.000000</td>\n",
       "      <td>49.01875</td>\n",
       "      <td>70.222222</td>\n",
       "      <td>328.5625</td>\n",
       "      <td>35588987</td>\n",
       "    </tr>\n",
       "    <tr>\n",
       "      <th>Argentina</th>\n",
       "      <td>54.276152</td>\n",
       "      <td>68.147781</td>\n",
       "      <td>75.15625</td>\n",
       "      <td>81.285714</td>\n",
       "      <td>106.0000</td>\n",
       "      <td>45510318</td>\n",
       "    </tr>\n",
       "    <tr>\n",
       "      <th>...</th>\n",
       "      <td>...</td>\n",
       "      <td>...</td>\n",
       "      <td>...</td>\n",
       "      <td>...</td>\n",
       "      <td>...</td>\n",
       "      <td>...</td>\n",
       "    </tr>\n",
       "    <tr>\n",
       "      <th>Uzbekistan</th>\n",
       "      <td>49.166667</td>\n",
       "      <td>56.451613</td>\n",
       "      <td>68.03125</td>\n",
       "      <td>95.642857</td>\n",
       "      <td>184.8125</td>\n",
       "      <td>34627652</td>\n",
       "    </tr>\n",
       "    <tr>\n",
       "      <th>Vanuatu</th>\n",
       "      <td>70.000000</td>\n",
       "      <td>75.000000</td>\n",
       "      <td>71.38750</td>\n",
       "      <td>56.125000</td>\n",
       "      <td>137.8750</td>\n",
       "      <td>326740</td>\n",
       "    </tr>\n",
       "    <tr>\n",
       "      <th>Yemen</th>\n",
       "      <td>85.416667</td>\n",
       "      <td>39.583333</td>\n",
       "      <td>63.86250</td>\n",
       "      <td>55.687500</td>\n",
       "      <td>211.8125</td>\n",
       "      <td>33696614</td>\n",
       "    </tr>\n",
       "    <tr>\n",
       "      <th>Zambia</th>\n",
       "      <td>80.769231</td>\n",
       "      <td>45.833333</td>\n",
       "      <td>53.90625</td>\n",
       "      <td>69.818182</td>\n",
       "      <td>354.3125</td>\n",
       "      <td>20017675</td>\n",
       "    </tr>\n",
       "    <tr>\n",
       "      <th>Zimbabwe</th>\n",
       "      <td>74.107143</td>\n",
       "      <td>45.329670</td>\n",
       "      <td>50.48750</td>\n",
       "      <td>70.562500</td>\n",
       "      <td>462.3750</td>\n",
       "      <td>16320537</td>\n",
       "    </tr>\n",
       "  </tbody>\n",
       "</table>\n",
       "<p>141 rows × 6 columns</p>\n",
       "</div>"
      ],
      "text/plain": [
       "             WaterPollution  AirQuality  Life expectancy   Hepatitis B  \\\n",
       "Country                                                                  \n",
       "Afghanistan       53.440657   37.213694          58.19375    64.562500   \n",
       "Albania           57.834201   51.873625          75.15625    98.000000   \n",
       "Algeria           50.623043   57.607466          73.61875    78.000000   \n",
       "Angola            81.250000   15.000000          49.01875    70.222222   \n",
       "Argentina         54.276152   68.147781          75.15625    81.285714   \n",
       "...                     ...         ...               ...          ...   \n",
       "Uzbekistan        49.166667   56.451613          68.03125    95.642857   \n",
       "Vanuatu           70.000000   75.000000          71.38750    56.125000   \n",
       "Yemen             85.416667   39.583333          63.86250    55.687500   \n",
       "Zambia            80.769231   45.833333          53.90625    69.818182   \n",
       "Zimbabwe          74.107143   45.329670          50.48750    70.562500   \n",
       "\n",
       "             Adult Mortality  Population  \n",
       "Country                                   \n",
       "Afghanistan         269.0625    41128771  \n",
       "Albania              45.0625     2842321  \n",
       "Algeria             108.1875    44903225  \n",
       "Angola              328.5625    35588987  \n",
       "Argentina           106.0000    45510318  \n",
       "...                      ...         ...  \n",
       "Uzbekistan          184.8125    34627652  \n",
       "Vanuatu             137.8750      326740  \n",
       "Yemen               211.8125    33696614  \n",
       "Zambia              354.3125    20017675  \n",
       "Zimbabwe            462.3750    16320537  \n",
       "\n",
       "[141 rows x 6 columns]"
      ]
     },
     "execution_count": 14,
     "metadata": {},
     "output_type": "execute_result"
    }
   ],
   "source": [
    "wife"
   ]
  },
  {
   "cell_type": "code",
   "execution_count": 15,
   "metadata": {},
   "outputs": [
    {
     "data": {
      "text/plain": [
       "WaterPollution      0\n",
       "AirQuality          0\n",
       "Life expectancy     0\n",
       "Hepatitis B         0\n",
       "Adult Mortality     0\n",
       "Population          0\n",
       "dtype: int64"
      ]
     },
     "execution_count": 15,
     "metadata": {},
     "output_type": "execute_result"
    }
   ],
   "source": [
    "wife.isna().sum()"
   ]
  },
  {
   "cell_type": "code",
   "execution_count": 16,
   "metadata": {},
   "outputs": [
    {
     "data": {
      "text/html": [
       "<div>\n",
       "<style scoped>\n",
       "    .dataframe tbody tr th:only-of-type {\n",
       "        vertical-align: middle;\n",
       "    }\n",
       "\n",
       "    .dataframe tbody tr th {\n",
       "        vertical-align: top;\n",
       "    }\n",
       "\n",
       "    .dataframe thead th {\n",
       "        text-align: right;\n",
       "    }\n",
       "</style>\n",
       "<table border=\"1\" class=\"dataframe\">\n",
       "  <thead>\n",
       "    <tr style=\"text-align: right;\">\n",
       "      <th></th>\n",
       "      <th>WaterPollution</th>\n",
       "      <th>AirQuality</th>\n",
       "      <th>Life expectancy</th>\n",
       "      <th>Hepatitis B</th>\n",
       "      <th>Adult Mortality</th>\n",
       "      <th>Population</th>\n",
       "    </tr>\n",
       "    <tr>\n",
       "      <th>Country</th>\n",
       "      <th></th>\n",
       "      <th></th>\n",
       "      <th></th>\n",
       "      <th></th>\n",
       "      <th></th>\n",
       "      <th></th>\n",
       "    </tr>\n",
       "  </thead>\n",
       "  <tbody>\n",
       "    <tr>\n",
       "      <th>Afghanistan</th>\n",
       "      <td>53.440657</td>\n",
       "      <td>37.213694</td>\n",
       "      <td>58.19375</td>\n",
       "      <td>64.562500</td>\n",
       "      <td>269.0625</td>\n",
       "      <td>41128771</td>\n",
       "    </tr>\n",
       "    <tr>\n",
       "      <th>Albania</th>\n",
       "      <td>57.834201</td>\n",
       "      <td>51.873625</td>\n",
       "      <td>75.15625</td>\n",
       "      <td>98.000000</td>\n",
       "      <td>45.0625</td>\n",
       "      <td>2842321</td>\n",
       "    </tr>\n",
       "    <tr>\n",
       "      <th>Algeria</th>\n",
       "      <td>50.623043</td>\n",
       "      <td>57.607466</td>\n",
       "      <td>73.61875</td>\n",
       "      <td>78.000000</td>\n",
       "      <td>108.1875</td>\n",
       "      <td>44903225</td>\n",
       "    </tr>\n",
       "    <tr>\n",
       "      <th>Angola</th>\n",
       "      <td>81.250000</td>\n",
       "      <td>15.000000</td>\n",
       "      <td>49.01875</td>\n",
       "      <td>70.222222</td>\n",
       "      <td>328.5625</td>\n",
       "      <td>35588987</td>\n",
       "    </tr>\n",
       "    <tr>\n",
       "      <th>Argentina</th>\n",
       "      <td>54.276152</td>\n",
       "      <td>68.147781</td>\n",
       "      <td>75.15625</td>\n",
       "      <td>81.285714</td>\n",
       "      <td>106.0000</td>\n",
       "      <td>45510318</td>\n",
       "    </tr>\n",
       "    <tr>\n",
       "      <th>...</th>\n",
       "      <td>...</td>\n",
       "      <td>...</td>\n",
       "      <td>...</td>\n",
       "      <td>...</td>\n",
       "      <td>...</td>\n",
       "      <td>...</td>\n",
       "    </tr>\n",
       "    <tr>\n",
       "      <th>Uzbekistan</th>\n",
       "      <td>49.166667</td>\n",
       "      <td>56.451613</td>\n",
       "      <td>68.03125</td>\n",
       "      <td>95.642857</td>\n",
       "      <td>184.8125</td>\n",
       "      <td>34627652</td>\n",
       "    </tr>\n",
       "    <tr>\n",
       "      <th>Vanuatu</th>\n",
       "      <td>70.000000</td>\n",
       "      <td>75.000000</td>\n",
       "      <td>71.38750</td>\n",
       "      <td>56.125000</td>\n",
       "      <td>137.8750</td>\n",
       "      <td>326740</td>\n",
       "    </tr>\n",
       "    <tr>\n",
       "      <th>Yemen</th>\n",
       "      <td>85.416667</td>\n",
       "      <td>39.583333</td>\n",
       "      <td>63.86250</td>\n",
       "      <td>55.687500</td>\n",
       "      <td>211.8125</td>\n",
       "      <td>33696614</td>\n",
       "    </tr>\n",
       "    <tr>\n",
       "      <th>Zambia</th>\n",
       "      <td>80.769231</td>\n",
       "      <td>45.833333</td>\n",
       "      <td>53.90625</td>\n",
       "      <td>69.818182</td>\n",
       "      <td>354.3125</td>\n",
       "      <td>20017675</td>\n",
       "    </tr>\n",
       "    <tr>\n",
       "      <th>Zimbabwe</th>\n",
       "      <td>74.107143</td>\n",
       "      <td>45.329670</td>\n",
       "      <td>50.48750</td>\n",
       "      <td>70.562500</td>\n",
       "      <td>462.3750</td>\n",
       "      <td>16320537</td>\n",
       "    </tr>\n",
       "  </tbody>\n",
       "</table>\n",
       "<p>141 rows × 6 columns</p>\n",
       "</div>"
      ],
      "text/plain": [
       "             WaterPollution  AirQuality  Life expectancy   Hepatitis B  \\\n",
       "Country                                                                  \n",
       "Afghanistan       53.440657   37.213694          58.19375    64.562500   \n",
       "Albania           57.834201   51.873625          75.15625    98.000000   \n",
       "Algeria           50.623043   57.607466          73.61875    78.000000   \n",
       "Angola            81.250000   15.000000          49.01875    70.222222   \n",
       "Argentina         54.276152   68.147781          75.15625    81.285714   \n",
       "...                     ...         ...               ...          ...   \n",
       "Uzbekistan        49.166667   56.451613          68.03125    95.642857   \n",
       "Vanuatu           70.000000   75.000000          71.38750    56.125000   \n",
       "Yemen             85.416667   39.583333          63.86250    55.687500   \n",
       "Zambia            80.769231   45.833333          53.90625    69.818182   \n",
       "Zimbabwe          74.107143   45.329670          50.48750    70.562500   \n",
       "\n",
       "             Adult Mortality  Population  \n",
       "Country                                   \n",
       "Afghanistan         269.0625    41128771  \n",
       "Albania              45.0625     2842321  \n",
       "Algeria             108.1875    44903225  \n",
       "Angola              328.5625    35588987  \n",
       "Argentina           106.0000    45510318  \n",
       "...                      ...         ...  \n",
       "Uzbekistan          184.8125    34627652  \n",
       "Vanuatu             137.8750      326740  \n",
       "Yemen               211.8125    33696614  \n",
       "Zambia              354.3125    20017675  \n",
       "Zimbabwe            462.3750    16320537  \n",
       "\n",
       "[141 rows x 6 columns]"
      ]
     },
     "execution_count": 16,
     "metadata": {},
     "output_type": "execute_result"
    }
   ],
   "source": [
    "wife.drop_duplicates()\n",
    "wife"
   ]
  },
  {
   "cell_type": "code",
   "execution_count": 17,
   "metadata": {},
   "outputs": [
    {
     "data": {
      "text/html": [
       "<div>\n",
       "<style scoped>\n",
       "    .dataframe tbody tr th:only-of-type {\n",
       "        vertical-align: middle;\n",
       "    }\n",
       "\n",
       "    .dataframe tbody tr th {\n",
       "        vertical-align: top;\n",
       "    }\n",
       "\n",
       "    .dataframe thead th {\n",
       "        text-align: right;\n",
       "    }\n",
       "</style>\n",
       "<table border=\"1\" class=\"dataframe\">\n",
       "  <thead>\n",
       "    <tr style=\"text-align: right;\">\n",
       "      <th></th>\n",
       "      <th>waterpollution</th>\n",
       "      <th>airquality</th>\n",
       "      <th>life_expectancy_</th>\n",
       "      <th>hepatitis_b</th>\n",
       "      <th>adult_mortality</th>\n",
       "      <th>population</th>\n",
       "    </tr>\n",
       "    <tr>\n",
       "      <th>Country</th>\n",
       "      <th></th>\n",
       "      <th></th>\n",
       "      <th></th>\n",
       "      <th></th>\n",
       "      <th></th>\n",
       "      <th></th>\n",
       "    </tr>\n",
       "  </thead>\n",
       "  <tbody>\n",
       "    <tr>\n",
       "      <th>Afghanistan</th>\n",
       "      <td>53.440657</td>\n",
       "      <td>37.213694</td>\n",
       "      <td>58.19375</td>\n",
       "      <td>64.562500</td>\n",
       "      <td>269.0625</td>\n",
       "      <td>41128771</td>\n",
       "    </tr>\n",
       "    <tr>\n",
       "      <th>Albania</th>\n",
       "      <td>57.834201</td>\n",
       "      <td>51.873625</td>\n",
       "      <td>75.15625</td>\n",
       "      <td>98.000000</td>\n",
       "      <td>45.0625</td>\n",
       "      <td>2842321</td>\n",
       "    </tr>\n",
       "    <tr>\n",
       "      <th>Algeria</th>\n",
       "      <td>50.623043</td>\n",
       "      <td>57.607466</td>\n",
       "      <td>73.61875</td>\n",
       "      <td>78.000000</td>\n",
       "      <td>108.1875</td>\n",
       "      <td>44903225</td>\n",
       "    </tr>\n",
       "    <tr>\n",
       "      <th>Angola</th>\n",
       "      <td>81.250000</td>\n",
       "      <td>15.000000</td>\n",
       "      <td>49.01875</td>\n",
       "      <td>70.222222</td>\n",
       "      <td>328.5625</td>\n",
       "      <td>35588987</td>\n",
       "    </tr>\n",
       "    <tr>\n",
       "      <th>Argentina</th>\n",
       "      <td>54.276152</td>\n",
       "      <td>68.147781</td>\n",
       "      <td>75.15625</td>\n",
       "      <td>81.285714</td>\n",
       "      <td>106.0000</td>\n",
       "      <td>45510318</td>\n",
       "    </tr>\n",
       "    <tr>\n",
       "      <th>...</th>\n",
       "      <td>...</td>\n",
       "      <td>...</td>\n",
       "      <td>...</td>\n",
       "      <td>...</td>\n",
       "      <td>...</td>\n",
       "      <td>...</td>\n",
       "    </tr>\n",
       "    <tr>\n",
       "      <th>Uzbekistan</th>\n",
       "      <td>49.166667</td>\n",
       "      <td>56.451613</td>\n",
       "      <td>68.03125</td>\n",
       "      <td>95.642857</td>\n",
       "      <td>184.8125</td>\n",
       "      <td>34627652</td>\n",
       "    </tr>\n",
       "    <tr>\n",
       "      <th>Vanuatu</th>\n",
       "      <td>70.000000</td>\n",
       "      <td>75.000000</td>\n",
       "      <td>71.38750</td>\n",
       "      <td>56.125000</td>\n",
       "      <td>137.8750</td>\n",
       "      <td>326740</td>\n",
       "    </tr>\n",
       "    <tr>\n",
       "      <th>Yemen</th>\n",
       "      <td>85.416667</td>\n",
       "      <td>39.583333</td>\n",
       "      <td>63.86250</td>\n",
       "      <td>55.687500</td>\n",
       "      <td>211.8125</td>\n",
       "      <td>33696614</td>\n",
       "    </tr>\n",
       "    <tr>\n",
       "      <th>Zambia</th>\n",
       "      <td>80.769231</td>\n",
       "      <td>45.833333</td>\n",
       "      <td>53.90625</td>\n",
       "      <td>69.818182</td>\n",
       "      <td>354.3125</td>\n",
       "      <td>20017675</td>\n",
       "    </tr>\n",
       "    <tr>\n",
       "      <th>Zimbabwe</th>\n",
       "      <td>74.107143</td>\n",
       "      <td>45.329670</td>\n",
       "      <td>50.48750</td>\n",
       "      <td>70.562500</td>\n",
       "      <td>462.3750</td>\n",
       "      <td>16320537</td>\n",
       "    </tr>\n",
       "  </tbody>\n",
       "</table>\n",
       "<p>141 rows × 6 columns</p>\n",
       "</div>"
      ],
      "text/plain": [
       "             waterpollution  airquality  life_expectancy_  hepatitis_b  \\\n",
       "Country                                                                  \n",
       "Afghanistan       53.440657   37.213694          58.19375    64.562500   \n",
       "Albania           57.834201   51.873625          75.15625    98.000000   \n",
       "Algeria           50.623043   57.607466          73.61875    78.000000   \n",
       "Angola            81.250000   15.000000          49.01875    70.222222   \n",
       "Argentina         54.276152   68.147781          75.15625    81.285714   \n",
       "...                     ...         ...               ...          ...   \n",
       "Uzbekistan        49.166667   56.451613          68.03125    95.642857   \n",
       "Vanuatu           70.000000   75.000000          71.38750    56.125000   \n",
       "Yemen             85.416667   39.583333          63.86250    55.687500   \n",
       "Zambia            80.769231   45.833333          53.90625    69.818182   \n",
       "Zimbabwe          74.107143   45.329670          50.48750    70.562500   \n",
       "\n",
       "             adult_mortality  population  \n",
       "Country                                   \n",
       "Afghanistan         269.0625    41128771  \n",
       "Albania              45.0625     2842321  \n",
       "Algeria             108.1875    44903225  \n",
       "Angola              328.5625    35588987  \n",
       "Argentina           106.0000    45510318  \n",
       "...                      ...         ...  \n",
       "Uzbekistan          184.8125    34627652  \n",
       "Vanuatu             137.8750      326740  \n",
       "Yemen               211.8125    33696614  \n",
       "Zambia              354.3125    20017675  \n",
       "Zimbabwe            462.3750    16320537  \n",
       "\n",
       "[141 rows x 6 columns]"
      ]
     },
     "execution_count": 17,
     "metadata": {},
     "output_type": "execute_result"
    }
   ],
   "source": [
    "wife.columns=[col.replace(\" \",\"_\").lower() for col in wife.columns]\n",
    "wife"
   ]
  },
  {
   "cell_type": "code",
   "execution_count": 18,
   "metadata": {},
   "outputs": [
    {
     "data": {
      "text/plain": [
       "<Axes: xlabel='life_expectancy_', ylabel='Count'>"
      ]
     },
     "execution_count": 18,
     "metadata": {},
     "output_type": "execute_result"
    },
    {
     "data": {
      "image/png": "[encoded data removed]",
      "text/plain": [
       "<Figure size 640x480 with 1 Axes>"
      ]
     },
     "metadata": {},
     "output_type": "display_data"
    }
   ],
   "source": [
    "import seaborn as sns\n",
    "sns.histplot(wife['life_expectancy_'], kde=True)\n",
    "sns.histplot(wife['waterpollution'], kde=True)"
   ]
  },
  {
   "cell_type": "code",
   "execution_count": 19,
   "metadata": {},
   "outputs": [],
   "source": [
    "wife.rename(columns= {\"waterpollution\": \"water_pollution\", \"airquality\":\"air_quality\", \"life_expectancy_\":\"life_expectancy\"}, inplace=True)"
   ]
  },
  {
   "cell_type": "code",
   "execution_count": 20,
   "metadata": {},
   "outputs": [
    {
     "data": {
      "text/html": [
       "<div>\n",
       "<style scoped>\n",
       "    .dataframe tbody tr th:only-of-type {\n",
       "        vertical-align: middle;\n",
       "    }\n",
       "\n",
       "    .dataframe tbody tr th {\n",
       "        vertical-align: top;\n",
       "    }\n",
       "\n",
       "    .dataframe thead th {\n",
       "        text-align: right;\n",
       "    }\n",
       "</style>\n",
       "<table border=\"1\" class=\"dataframe\">\n",
       "  <thead>\n",
       "    <tr style=\"text-align: right;\">\n",
       "      <th></th>\n",
       "      <th>water_pollution</th>\n",
       "      <th>air_quality</th>\n",
       "      <th>life_expectancy</th>\n",
       "      <th>hepatitis_b</th>\n",
       "      <th>adult_mortality</th>\n",
       "      <th>population</th>\n",
       "    </tr>\n",
       "    <tr>\n",
       "      <th>Country</th>\n",
       "      <th></th>\n",
       "      <th></th>\n",
       "      <th></th>\n",
       "      <th></th>\n",
       "      <th></th>\n",
       "      <th></th>\n",
       "    </tr>\n",
       "  </thead>\n",
       "  <tbody>\n",
       "    <tr>\n",
       "      <th>Afghanistan</th>\n",
       "      <td>53.440657</td>\n",
       "      <td>37.213694</td>\n",
       "      <td>58.19375</td>\n",
       "      <td>64.562500</td>\n",
       "      <td>269.0625</td>\n",
       "      <td>41128771</td>\n",
       "    </tr>\n",
       "    <tr>\n",
       "      <th>Albania</th>\n",
       "      <td>57.834201</td>\n",
       "      <td>51.873625</td>\n",
       "      <td>75.15625</td>\n",
       "      <td>98.000000</td>\n",
       "      <td>45.0625</td>\n",
       "      <td>2842321</td>\n",
       "    </tr>\n",
       "    <tr>\n",
       "      <th>Algeria</th>\n",
       "      <td>50.623043</td>\n",
       "      <td>57.607466</td>\n",
       "      <td>73.61875</td>\n",
       "      <td>78.000000</td>\n",
       "      <td>108.1875</td>\n",
       "      <td>44903225</td>\n",
       "    </tr>\n",
       "    <tr>\n",
       "      <th>Angola</th>\n",
       "      <td>81.250000</td>\n",
       "      <td>15.000000</td>\n",
       "      <td>49.01875</td>\n",
       "      <td>70.222222</td>\n",
       "      <td>328.5625</td>\n",
       "      <td>35588987</td>\n",
       "    </tr>\n",
       "    <tr>\n",
       "      <th>Argentina</th>\n",
       "      <td>54.276152</td>\n",
       "      <td>68.147781</td>\n",
       "      <td>75.15625</td>\n",
       "      <td>81.285714</td>\n",
       "      <td>106.0000</td>\n",
       "      <td>45510318</td>\n",
       "    </tr>\n",
       "    <tr>\n",
       "      <th>...</th>\n",
       "      <td>...</td>\n",
       "      <td>...</td>\n",
       "      <td>...</td>\n",
       "      <td>...</td>\n",
       "      <td>...</td>\n",
       "      <td>...</td>\n",
       "    </tr>\n",
       "    <tr>\n",
       "      <th>Uzbekistan</th>\n",
       "      <td>49.166667</td>\n",
       "      <td>56.451613</td>\n",
       "      <td>68.03125</td>\n",
       "      <td>95.642857</td>\n",
       "      <td>184.8125</td>\n",
       "      <td>34627652</td>\n",
       "    </tr>\n",
       "    <tr>\n",
       "      <th>Vanuatu</th>\n",
       "      <td>70.000000</td>\n",
       "      <td>75.000000</td>\n",
       "      <td>71.38750</td>\n",
       "      <td>56.125000</td>\n",
       "      <td>137.8750</td>\n",
       "      <td>326740</td>\n",
       "    </tr>\n",
       "    <tr>\n",
       "      <th>Yemen</th>\n",
       "      <td>85.416667</td>\n",
       "      <td>39.583333</td>\n",
       "      <td>63.86250</td>\n",
       "      <td>55.687500</td>\n",
       "      <td>211.8125</td>\n",
       "      <td>33696614</td>\n",
       "    </tr>\n",
       "    <tr>\n",
       "      <th>Zambia</th>\n",
       "      <td>80.769231</td>\n",
       "      <td>45.833333</td>\n",
       "      <td>53.90625</td>\n",
       "      <td>69.818182</td>\n",
       "      <td>354.3125</td>\n",
       "      <td>20017675</td>\n",
       "    </tr>\n",
       "    <tr>\n",
       "      <th>Zimbabwe</th>\n",
       "      <td>74.107143</td>\n",
       "      <td>45.329670</td>\n",
       "      <td>50.48750</td>\n",
       "      <td>70.562500</td>\n",
       "      <td>462.3750</td>\n",
       "      <td>16320537</td>\n",
       "    </tr>\n",
       "  </tbody>\n",
       "</table>\n",
       "<p>141 rows × 6 columns</p>\n",
       "</div>"
      ],
      "text/plain": [
       "             water_pollution  air_quality  life_expectancy  hepatitis_b  \\\n",
       "Country                                                                   \n",
       "Afghanistan        53.440657    37.213694         58.19375    64.562500   \n",
       "Albania            57.834201    51.873625         75.15625    98.000000   \n",
       "Algeria            50.623043    57.607466         73.61875    78.000000   \n",
       "Angola             81.250000    15.000000         49.01875    70.222222   \n",
       "Argentina          54.276152    68.147781         75.15625    81.285714   \n",
       "...                      ...          ...              ...          ...   \n",
       "Uzbekistan         49.166667    56.451613         68.03125    95.642857   \n",
       "Vanuatu            70.000000    75.000000         71.38750    56.125000   \n",
       "Yemen              85.416667    39.583333         63.86250    55.687500   \n",
       "Zambia             80.769231    45.833333         53.90625    69.818182   \n",
       "Zimbabwe           74.107143    45.329670         50.48750    70.562500   \n",
       "\n",
       "             adult_mortality  population  \n",
       "Country                                   \n",
       "Afghanistan         269.0625    41128771  \n",
       "Albania              45.0625     2842321  \n",
       "Algeria             108.1875    44903225  \n",
       "Angola              328.5625    35588987  \n",
       "Argentina           106.0000    45510318  \n",
       "...                      ...         ...  \n",
       "Uzbekistan          184.8125    34627652  \n",
       "Vanuatu             137.8750      326740  \n",
       "Yemen               211.8125    33696614  \n",
       "Zambia              354.3125    20017675  \n",
       "Zimbabwe            462.3750    16320537  \n",
       "\n",
       "[141 rows x 6 columns]"
      ]
     },
     "execution_count": 20,
     "metadata": {},
     "output_type": "execute_result"
    }
   ],
   "source": [
    "wife"
   ]
  },
  {
   "cell_type": "code",
   "execution_count": 21,
   "metadata": {},
   "outputs": [],
   "source": [
    "wife=wife.apply(lambda x:round(x,2))"
   ]
  },
  {
   "cell_type": "code",
   "execution_count": 22,
   "metadata": {},
   "outputs": [
    {
     "data": {
      "text/html": [
       "<div>\n",
       "<style scoped>\n",
       "    .dataframe tbody tr th:only-of-type {\n",
       "        vertical-align: middle;\n",
       "    }\n",
       "\n",
       "    .dataframe tbody tr th {\n",
       "        vertical-align: top;\n",
       "    }\n",
       "\n",
       "    .dataframe thead th {\n",
       "        text-align: right;\n",
       "    }\n",
       "</style>\n",
       "<table border=\"1\" class=\"dataframe\">\n",
       "  <thead>\n",
       "    <tr style=\"text-align: right;\">\n",
       "      <th></th>\n",
       "      <th>water_pollution</th>\n",
       "      <th>air_quality</th>\n",
       "      <th>life_expectancy</th>\n",
       "      <th>hepatitis_b</th>\n",
       "      <th>adult_mortality</th>\n",
       "      <th>population</th>\n",
       "    </tr>\n",
       "    <tr>\n",
       "      <th>Country</th>\n",
       "      <th></th>\n",
       "      <th></th>\n",
       "      <th></th>\n",
       "      <th></th>\n",
       "      <th></th>\n",
       "      <th></th>\n",
       "    </tr>\n",
       "  </thead>\n",
       "  <tbody>\n",
       "    <tr>\n",
       "      <th>Afghanistan</th>\n",
       "      <td>53.44</td>\n",
       "      <td>37.21</td>\n",
       "      <td>58.19</td>\n",
       "      <td>64.56</td>\n",
       "      <td>269.06</td>\n",
       "      <td>41128771</td>\n",
       "    </tr>\n",
       "    <tr>\n",
       "      <th>Albania</th>\n",
       "      <td>57.83</td>\n",
       "      <td>51.87</td>\n",
       "      <td>75.16</td>\n",
       "      <td>98.00</td>\n",
       "      <td>45.06</td>\n",
       "      <td>2842321</td>\n",
       "    </tr>\n",
       "    <tr>\n",
       "      <th>Algeria</th>\n",
       "      <td>50.62</td>\n",
       "      <td>57.61</td>\n",
       "      <td>73.62</td>\n",
       "      <td>78.00</td>\n",
       "      <td>108.19</td>\n",
       "      <td>44903225</td>\n",
       "    </tr>\n",
       "    <tr>\n",
       "      <th>Angola</th>\n",
       "      <td>81.25</td>\n",
       "      <td>15.00</td>\n",
       "      <td>49.02</td>\n",
       "      <td>70.22</td>\n",
       "      <td>328.56</td>\n",
       "      <td>35588987</td>\n",
       "    </tr>\n",
       "    <tr>\n",
       "      <th>Argentina</th>\n",
       "      <td>54.28</td>\n",
       "      <td>68.15</td>\n",
       "      <td>75.16</td>\n",
       "      <td>81.29</td>\n",
       "      <td>106.00</td>\n",
       "      <td>45510318</td>\n",
       "    </tr>\n",
       "    <tr>\n",
       "      <th>...</th>\n",
       "      <td>...</td>\n",
       "      <td>...</td>\n",
       "      <td>...</td>\n",
       "      <td>...</td>\n",
       "      <td>...</td>\n",
       "      <td>...</td>\n",
       "    </tr>\n",
       "    <tr>\n",
       "      <th>Uzbekistan</th>\n",
       "      <td>49.17</td>\n",
       "      <td>56.45</td>\n",
       "      <td>68.03</td>\n",
       "      <td>95.64</td>\n",
       "      <td>184.81</td>\n",
       "      <td>34627652</td>\n",
       "    </tr>\n",
       "    <tr>\n",
       "      <th>Vanuatu</th>\n",
       "      <td>70.00</td>\n",
       "      <td>75.00</td>\n",
       "      <td>71.39</td>\n",
       "      <td>56.12</td>\n",
       "      <td>137.88</td>\n",
       "      <td>326740</td>\n",
       "    </tr>\n",
       "    <tr>\n",
       "      <th>Yemen</th>\n",
       "      <td>85.42</td>\n",
       "      <td>39.58</td>\n",
       "      <td>63.86</td>\n",
       "      <td>55.69</td>\n",
       "      <td>211.81</td>\n",
       "      <td>33696614</td>\n",
       "    </tr>\n",
       "    <tr>\n",
       "      <th>Zambia</th>\n",
       "      <td>80.77</td>\n",
       "      <td>45.83</td>\n",
       "      <td>53.91</td>\n",
       "      <td>69.82</td>\n",
       "      <td>354.31</td>\n",
       "      <td>20017675</td>\n",
       "    </tr>\n",
       "    <tr>\n",
       "      <th>Zimbabwe</th>\n",
       "      <td>74.11</td>\n",
       "      <td>45.33</td>\n",
       "      <td>50.49</td>\n",
       "      <td>70.56</td>\n",
       "      <td>462.38</td>\n",
       "      <td>16320537</td>\n",
       "    </tr>\n",
       "  </tbody>\n",
       "</table>\n",
       "<p>141 rows × 6 columns</p>\n",
       "</div>"
      ],
      "text/plain": [
       "             water_pollution  air_quality  life_expectancy  hepatitis_b  \\\n",
       "Country                                                                   \n",
       "Afghanistan            53.44        37.21            58.19        64.56   \n",
       "Albania                57.83        51.87            75.16        98.00   \n",
       "Algeria                50.62        57.61            73.62        78.00   \n",
       "Angola                 81.25        15.00            49.02        70.22   \n",
       "Argentina              54.28        68.15            75.16        81.29   \n",
       "...                      ...          ...              ...          ...   \n",
       "Uzbekistan             49.17        56.45            68.03        95.64   \n",
       "Vanuatu                70.00        75.00            71.39        56.12   \n",
       "Yemen                  85.42        39.58            63.86        55.69   \n",
       "Zambia                 80.77        45.83            53.91        69.82   \n",
       "Zimbabwe               74.11        45.33            50.49        70.56   \n",
       "\n",
       "             adult_mortality  population  \n",
       "Country                                   \n",
       "Afghanistan           269.06    41128771  \n",
       "Albania                45.06     2842321  \n",
       "Algeria               108.19    44903225  \n",
       "Angola                328.56    35588987  \n",
       "Argentina             106.00    45510318  \n",
       "...                      ...         ...  \n",
       "Uzbekistan            184.81    34627652  \n",
       "Vanuatu               137.88      326740  \n",
       "Yemen                 211.81    33696614  \n",
       "Zambia                354.31    20017675  \n",
       "Zimbabwe              462.38    16320537  \n",
       "\n",
       "[141 rows x 6 columns]"
      ]
     },
     "execution_count": 22,
     "metadata": {},
     "output_type": "execute_result"
    }
   ],
   "source": [
    "wife"
   ]
  },
  {
   "cell_type": "code",
   "execution_count": 23,
   "metadata": {},
   "outputs": [],
   "source": [
    "wife.to_csv(\"wife.csv\")"
   ]
  },
  {
   "cell_type": "code",
   "execution_count": 24,
   "metadata": {},
   "outputs": [
    {
     "data": {
      "text/html": [
       "<div>\n",
       "<style scoped>\n",
       "    .dataframe tbody tr th:only-of-type {\n",
       "        vertical-align: middle;\n",
       "    }\n",
       "\n",
       "    .dataframe tbody tr th {\n",
       "        vertical-align: top;\n",
       "    }\n",
       "\n",
       "    .dataframe thead th {\n",
       "        text-align: right;\n",
       "    }\n",
       "</style>\n",
       "<table border=\"1\" class=\"dataframe\">\n",
       "  <thead>\n",
       "    <tr style=\"text-align: right;\">\n",
       "      <th></th>\n",
       "      <th>water_pollution</th>\n",
       "      <th>air_quality</th>\n",
       "      <th>life_expectancy</th>\n",
       "      <th>hepatitis_b</th>\n",
       "      <th>adult_mortality</th>\n",
       "      <th>population</th>\n",
       "    </tr>\n",
       "    <tr>\n",
       "      <th>Country</th>\n",
       "      <th></th>\n",
       "      <th></th>\n",
       "      <th></th>\n",
       "      <th></th>\n",
       "      <th></th>\n",
       "      <th></th>\n",
       "    </tr>\n",
       "  </thead>\n",
       "  <tbody>\n",
       "    <tr>\n",
       "      <th>Afghanistan</th>\n",
       "      <td>53.44</td>\n",
       "      <td>37.21</td>\n",
       "      <td>58.19</td>\n",
       "      <td>64.56</td>\n",
       "      <td>269.06</td>\n",
       "      <td>41128771</td>\n",
       "    </tr>\n",
       "    <tr>\n",
       "      <th>Albania</th>\n",
       "      <td>57.83</td>\n",
       "      <td>51.87</td>\n",
       "      <td>75.16</td>\n",
       "      <td>98.00</td>\n",
       "      <td>45.06</td>\n",
       "      <td>2842321</td>\n",
       "    </tr>\n",
       "    <tr>\n",
       "      <th>Algeria</th>\n",
       "      <td>50.62</td>\n",
       "      <td>57.61</td>\n",
       "      <td>73.62</td>\n",
       "      <td>78.00</td>\n",
       "      <td>108.19</td>\n",
       "      <td>44903225</td>\n",
       "    </tr>\n",
       "    <tr>\n",
       "      <th>Angola</th>\n",
       "      <td>81.25</td>\n",
       "      <td>15.00</td>\n",
       "      <td>49.02</td>\n",
       "      <td>70.22</td>\n",
       "      <td>328.56</td>\n",
       "      <td>35588987</td>\n",
       "    </tr>\n",
       "    <tr>\n",
       "      <th>Argentina</th>\n",
       "      <td>54.28</td>\n",
       "      <td>68.15</td>\n",
       "      <td>75.16</td>\n",
       "      <td>81.29</td>\n",
       "      <td>106.00</td>\n",
       "      <td>45510318</td>\n",
       "    </tr>\n",
       "    <tr>\n",
       "      <th>...</th>\n",
       "      <td>...</td>\n",
       "      <td>...</td>\n",
       "      <td>...</td>\n",
       "      <td>...</td>\n",
       "      <td>...</td>\n",
       "      <td>...</td>\n",
       "    </tr>\n",
       "    <tr>\n",
       "      <th>Uzbekistan</th>\n",
       "      <td>49.17</td>\n",
       "      <td>56.45</td>\n",
       "      <td>68.03</td>\n",
       "      <td>95.64</td>\n",
       "      <td>184.81</td>\n",
       "      <td>34627652</td>\n",
       "    </tr>\n",
       "    <tr>\n",
       "      <th>Vanuatu</th>\n",
       "      <td>70.00</td>\n",
       "      <td>75.00</td>\n",
       "      <td>71.39</td>\n",
       "      <td>56.12</td>\n",
       "      <td>137.88</td>\n",
       "      <td>326740</td>\n",
       "    </tr>\n",
       "    <tr>\n",
       "      <th>Yemen</th>\n",
       "      <td>85.42</td>\n",
       "      <td>39.58</td>\n",
       "      <td>63.86</td>\n",
       "      <td>55.69</td>\n",
       "      <td>211.81</td>\n",
       "      <td>33696614</td>\n",
       "    </tr>\n",
       "    <tr>\n",
       "      <th>Zambia</th>\n",
       "      <td>80.77</td>\n",
       "      <td>45.83</td>\n",
       "      <td>53.91</td>\n",
       "      <td>69.82</td>\n",
       "      <td>354.31</td>\n",
       "      <td>20017675</td>\n",
       "    </tr>\n",
       "    <tr>\n",
       "      <th>Zimbabwe</th>\n",
       "      <td>74.11</td>\n",
       "      <td>45.33</td>\n",
       "      <td>50.49</td>\n",
       "      <td>70.56</td>\n",
       "      <td>462.38</td>\n",
       "      <td>16320537</td>\n",
       "    </tr>\n",
       "  </tbody>\n",
       "</table>\n",
       "<p>141 rows × 6 columns</p>\n",
       "</div>"
      ],
      "text/plain": [
       "             water_pollution  air_quality  life_expectancy  hepatitis_b  \\\n",
       "Country                                                                   \n",
       "Afghanistan            53.44        37.21            58.19        64.56   \n",
       "Albania                57.83        51.87            75.16        98.00   \n",
       "Algeria                50.62        57.61            73.62        78.00   \n",
       "Angola                 81.25        15.00            49.02        70.22   \n",
       "Argentina              54.28        68.15            75.16        81.29   \n",
       "...                      ...          ...              ...          ...   \n",
       "Uzbekistan             49.17        56.45            68.03        95.64   \n",
       "Vanuatu                70.00        75.00            71.39        56.12   \n",
       "Yemen                  85.42        39.58            63.86        55.69   \n",
       "Zambia                 80.77        45.83            53.91        69.82   \n",
       "Zimbabwe               74.11        45.33            50.49        70.56   \n",
       "\n",
       "             adult_mortality  population  \n",
       "Country                                   \n",
       "Afghanistan           269.06    41128771  \n",
       "Albania                45.06     2842321  \n",
       "Algeria               108.19    44903225  \n",
       "Angola                328.56    35588987  \n",
       "Argentina             106.00    45510318  \n",
       "...                      ...         ...  \n",
       "Uzbekistan            184.81    34627652  \n",
       "Vanuatu               137.88      326740  \n",
       "Yemen                 211.81    33696614  \n",
       "Zambia                354.31    20017675  \n",
       "Zimbabwe              462.38    16320537  \n",
       "\n",
       "[141 rows x 6 columns]"
      ]
     },
     "execution_count": 24,
     "metadata": {},
     "output_type": "execute_result"
    }
   ],
   "source": [
    "wife"
   ]
  },
  {
   "cell_type": "code",
   "execution_count": 25,
   "metadata": {},
   "outputs": [
    {
     "data": {
      "text/html": [
       "<div>\n",
       "<style scoped>\n",
       "    .dataframe tbody tr th:only-of-type {\n",
       "        vertical-align: middle;\n",
       "    }\n",
       "\n",
       "    .dataframe tbody tr th {\n",
       "        vertical-align: top;\n",
       "    }\n",
       "\n",
       "    .dataframe thead th {\n",
       "        text-align: right;\n",
       "    }\n",
       "</style>\n",
       "<table border=\"1\" class=\"dataframe\">\n",
       "  <thead>\n",
       "    <tr style=\"text-align: right;\">\n",
       "      <th></th>\n",
       "      <th>water_pollution</th>\n",
       "      <th>air_quality</th>\n",
       "      <th>life_expectancy</th>\n",
       "      <th>hepatitis_b</th>\n",
       "      <th>adult_mortality</th>\n",
       "      <th>population</th>\n",
       "    </tr>\n",
       "    <tr>\n",
       "      <th>Country</th>\n",
       "      <th></th>\n",
       "      <th></th>\n",
       "      <th></th>\n",
       "      <th></th>\n",
       "      <th></th>\n",
       "      <th></th>\n",
       "    </tr>\n",
       "  </thead>\n",
       "  <tbody>\n",
       "    <tr>\n",
       "      <th>Afghanistan</th>\n",
       "      <td>53.44</td>\n",
       "      <td>37.21</td>\n",
       "      <td>58.19</td>\n",
       "      <td>64.56</td>\n",
       "      <td>269.06</td>\n",
       "      <td>41128771</td>\n",
       "    </tr>\n",
       "    <tr>\n",
       "      <th>Albania</th>\n",
       "      <td>57.83</td>\n",
       "      <td>51.87</td>\n",
       "      <td>75.16</td>\n",
       "      <td>98.00</td>\n",
       "      <td>45.06</td>\n",
       "      <td>2842321</td>\n",
       "    </tr>\n",
       "    <tr>\n",
       "      <th>Algeria</th>\n",
       "      <td>50.62</td>\n",
       "      <td>57.61</td>\n",
       "      <td>73.62</td>\n",
       "      <td>78.00</td>\n",
       "      <td>108.19</td>\n",
       "      <td>44903225</td>\n",
       "    </tr>\n",
       "    <tr>\n",
       "      <th>Angola</th>\n",
       "      <td>81.25</td>\n",
       "      <td>15.00</td>\n",
       "      <td>49.02</td>\n",
       "      <td>70.22</td>\n",
       "      <td>328.56</td>\n",
       "      <td>35588987</td>\n",
       "    </tr>\n",
       "    <tr>\n",
       "      <th>Argentina</th>\n",
       "      <td>54.28</td>\n",
       "      <td>68.15</td>\n",
       "      <td>75.16</td>\n",
       "      <td>81.29</td>\n",
       "      <td>106.00</td>\n",
       "      <td>45510318</td>\n",
       "    </tr>\n",
       "    <tr>\n",
       "      <th>...</th>\n",
       "      <td>...</td>\n",
       "      <td>...</td>\n",
       "      <td>...</td>\n",
       "      <td>...</td>\n",
       "      <td>...</td>\n",
       "      <td>...</td>\n",
       "    </tr>\n",
       "    <tr>\n",
       "      <th>Uzbekistan</th>\n",
       "      <td>49.17</td>\n",
       "      <td>56.45</td>\n",
       "      <td>68.03</td>\n",
       "      <td>95.64</td>\n",
       "      <td>184.81</td>\n",
       "      <td>34627652</td>\n",
       "    </tr>\n",
       "    <tr>\n",
       "      <th>Vanuatu</th>\n",
       "      <td>70.00</td>\n",
       "      <td>75.00</td>\n",
       "      <td>71.39</td>\n",
       "      <td>56.12</td>\n",
       "      <td>137.88</td>\n",
       "      <td>326740</td>\n",
       "    </tr>\n",
       "    <tr>\n",
       "      <th>Yemen</th>\n",
       "      <td>85.42</td>\n",
       "      <td>39.58</td>\n",
       "      <td>63.86</td>\n",
       "      <td>55.69</td>\n",
       "      <td>211.81</td>\n",
       "      <td>33696614</td>\n",
       "    </tr>\n",
       "    <tr>\n",
       "      <th>Zambia</th>\n",
       "      <td>80.77</td>\n",
       "      <td>45.83</td>\n",
       "      <td>53.91</td>\n",
       "      <td>69.82</td>\n",
       "      <td>354.31</td>\n",
       "      <td>20017675</td>\n",
       "    </tr>\n",
       "    <tr>\n",
       "      <th>Zimbabwe</th>\n",
       "      <td>74.11</td>\n",
       "      <td>45.33</td>\n",
       "      <td>50.49</td>\n",
       "      <td>70.56</td>\n",
       "      <td>462.38</td>\n",
       "      <td>16320537</td>\n",
       "    </tr>\n",
       "  </tbody>\n",
       "</table>\n",
       "<p>141 rows × 6 columns</p>\n",
       "</div>"
      ],
      "text/plain": [
       "             water_pollution  air_quality  life_expectancy  hepatitis_b  \\\n",
       "Country                                                                   \n",
       "Afghanistan            53.44        37.21            58.19        64.56   \n",
       "Albania                57.83        51.87            75.16        98.00   \n",
       "Algeria                50.62        57.61            73.62        78.00   \n",
       "Angola                 81.25        15.00            49.02        70.22   \n",
       "Argentina              54.28        68.15            75.16        81.29   \n",
       "...                      ...          ...              ...          ...   \n",
       "Uzbekistan             49.17        56.45            68.03        95.64   \n",
       "Vanuatu                70.00        75.00            71.39        56.12   \n",
       "Yemen                  85.42        39.58            63.86        55.69   \n",
       "Zambia                 80.77        45.83            53.91        69.82   \n",
       "Zimbabwe               74.11        45.33            50.49        70.56   \n",
       "\n",
       "             adult_mortality  population  \n",
       "Country                                   \n",
       "Afghanistan           269.06    41128771  \n",
       "Albania                45.06     2842321  \n",
       "Algeria               108.19    44903225  \n",
       "Angola                328.56    35588987  \n",
       "Argentina             106.00    45510318  \n",
       "...                      ...         ...  \n",
       "Uzbekistan            184.81    34627652  \n",
       "Vanuatu               137.88      326740  \n",
       "Yemen                 211.81    33696614  \n",
       "Zambia                354.31    20017675  \n",
       "Zimbabwe              462.38    16320537  \n",
       "\n",
       "[141 rows x 6 columns]"
      ]
     },
     "execution_count": 25,
     "metadata": {},
     "output_type": "execute_result"
    }
   ],
   "source": [
    "wife"
   ]
  },
  {
   "cell_type": "code",
   "execution_count": 26,
   "metadata": {},
   "outputs": [],
   "source": [
    "#splitting into 3 subsets for machine learning purposes\n",
    "\n",
    "dflife=wife.drop(columns=[\"hepatitis_b\",\"adult_mortality\"])\n",
    "dfmort=wife.drop(columns=[\"hepatitis_b\",\"life_expectancy\"])\n",
    "dfhep=wife.drop(columns=[\"life_expectancy\",\"adult_mortality\"])"
   ]
  },
  {
   "cell_type": "code",
   "execution_count": 27,
   "metadata": {},
   "outputs": [
    {
     "data": {
      "text/html": [
       "<div>\n",
       "<style scoped>\n",
       "    .dataframe tbody tr th:only-of-type {\n",
       "        vertical-align: middle;\n",
       "    }\n",
       "\n",
       "    .dataframe tbody tr th {\n",
       "        vertical-align: top;\n",
       "    }\n",
       "\n",
       "    .dataframe thead th {\n",
       "        text-align: right;\n",
       "    }\n",
       "</style>\n",
       "<table border=\"1\" class=\"dataframe\">\n",
       "  <thead>\n",
       "    <tr style=\"text-align: right;\">\n",
       "      <th></th>\n",
       "      <th>water_pollution</th>\n",
       "      <th>air_quality</th>\n",
       "      <th>life_expectancy</th>\n",
       "      <th>population</th>\n",
       "    </tr>\n",
       "    <tr>\n",
       "      <th>Country</th>\n",
       "      <th></th>\n",
       "      <th></th>\n",
       "      <th></th>\n",
       "      <th></th>\n",
       "    </tr>\n",
       "  </thead>\n",
       "  <tbody>\n",
       "    <tr>\n",
       "      <th>Afghanistan</th>\n",
       "      <td>53.44</td>\n",
       "      <td>37.21</td>\n",
       "      <td>58.19</td>\n",
       "      <td>41128771</td>\n",
       "    </tr>\n",
       "    <tr>\n",
       "      <th>Albania</th>\n",
       "      <td>57.83</td>\n",
       "      <td>51.87</td>\n",
       "      <td>75.16</td>\n",
       "      <td>2842321</td>\n",
       "    </tr>\n",
       "    <tr>\n",
       "      <th>Algeria</th>\n",
       "      <td>50.62</td>\n",
       "      <td>57.61</td>\n",
       "      <td>73.62</td>\n",
       "      <td>44903225</td>\n",
       "    </tr>\n",
       "    <tr>\n",
       "      <th>Angola</th>\n",
       "      <td>81.25</td>\n",
       "      <td>15.00</td>\n",
       "      <td>49.02</td>\n",
       "      <td>35588987</td>\n",
       "    </tr>\n",
       "    <tr>\n",
       "      <th>Argentina</th>\n",
       "      <td>54.28</td>\n",
       "      <td>68.15</td>\n",
       "      <td>75.16</td>\n",
       "      <td>45510318</td>\n",
       "    </tr>\n",
       "    <tr>\n",
       "      <th>...</th>\n",
       "      <td>...</td>\n",
       "      <td>...</td>\n",
       "      <td>...</td>\n",
       "      <td>...</td>\n",
       "    </tr>\n",
       "    <tr>\n",
       "      <th>Uzbekistan</th>\n",
       "      <td>49.17</td>\n",
       "      <td>56.45</td>\n",
       "      <td>68.03</td>\n",
       "      <td>34627652</td>\n",
       "    </tr>\n",
       "    <tr>\n",
       "      <th>Vanuatu</th>\n",
       "      <td>70.00</td>\n",
       "      <td>75.00</td>\n",
       "      <td>71.39</td>\n",
       "      <td>326740</td>\n",
       "    </tr>\n",
       "    <tr>\n",
       "      <th>Yemen</th>\n",
       "      <td>85.42</td>\n",
       "      <td>39.58</td>\n",
       "      <td>63.86</td>\n",
       "      <td>33696614</td>\n",
       "    </tr>\n",
       "    <tr>\n",
       "      <th>Zambia</th>\n",
       "      <td>80.77</td>\n",
       "      <td>45.83</td>\n",
       "      <td>53.91</td>\n",
       "      <td>20017675</td>\n",
       "    </tr>\n",
       "    <tr>\n",
       "      <th>Zimbabwe</th>\n",
       "      <td>74.11</td>\n",
       "      <td>45.33</td>\n",
       "      <td>50.49</td>\n",
       "      <td>16320537</td>\n",
       "    </tr>\n",
       "  </tbody>\n",
       "</table>\n",
       "<p>141 rows × 4 columns</p>\n",
       "</div>"
      ],
      "text/plain": [
       "             water_pollution  air_quality  life_expectancy  population\n",
       "Country                                                               \n",
       "Afghanistan            53.44        37.21            58.19    41128771\n",
       "Albania                57.83        51.87            75.16     2842321\n",
       "Algeria                50.62        57.61            73.62    44903225\n",
       "Angola                 81.25        15.00            49.02    35588987\n",
       "Argentina              54.28        68.15            75.16    45510318\n",
       "...                      ...          ...              ...         ...\n",
       "Uzbekistan             49.17        56.45            68.03    34627652\n",
       "Vanuatu                70.00        75.00            71.39      326740\n",
       "Yemen                  85.42        39.58            63.86    33696614\n",
       "Zambia                 80.77        45.83            53.91    20017675\n",
       "Zimbabwe               74.11        45.33            50.49    16320537\n",
       "\n",
       "[141 rows x 4 columns]"
      ]
     },
     "execution_count": 27,
     "metadata": {},
     "output_type": "execute_result"
    }
   ],
   "source": [
    "dflife"
   ]
  },
  {
   "cell_type": "code",
   "execution_count": 28,
   "metadata": {},
   "outputs": [],
   "source": [
    "from sklearn.model_selection import train_test_split\n",
    "\n",
    "features=dflife.drop(columns=[\"life_expectancy\"])\n",
    "target=dflife[\"life_expectancy\"]\n",
    "x_train,x_test,y_train,y_test=train_test_split(features, target, test_size=0.20,random_state=0)\n",
    "from sklearn.preprocessing import MinMaxScaler, StandardScaler"
   ]
  },
  {
   "cell_type": "code",
   "execution_count": 29,
   "metadata": {},
   "outputs": [
    {
     "data": {
      "text/html": [
       "<style>#sk-container-id-1 {color: black;background-color: white;}#sk-container-id-1 pre{padding: 0;}#sk-container-id-1 div.sk-toggleable {background-color: white;}#sk-container-id-1 label.sk-toggleable__label {cursor: pointer;display: block;width: 100%;margin-bottom: 0;padding: 0.3em;box-sizing: border-box;text-align: center;}#sk-container-id-1 label.sk-toggleable__label-arrow:before {content: \"▸\";float: left;margin-right: 0.25em;color: #696969;}#sk-container-id-1 label.sk-toggleable__label-arrow:hover:before {color: black;}#sk-container-id-1 div.sk-estimator:hover label.sk-toggleable__label-arrow:before {color: black;}#sk-container-id-1 div.sk-toggleable__content {max-height: 0;max-width: 0;overflow: hidden;text-align: left;background-color: #f0f8ff;}#sk-container-id-1 div.sk-toggleable__content pre {margin: 0.2em;color: black;border-radius: 0.25em;background-color: #f0f8ff;}#sk-container-id-1 input.sk-toggleable__control:checked~div.sk-toggleable__content {max-height: 200px;max-width: 100%;overflow: auto;}#sk-container-id-1 input.sk-toggleable__control:checked~label.sk-toggleable__label-arrow:before {content: \"▾\";}#sk-container-id-1 div.sk-estimator input.sk-toggleable__control:checked~label.sk-toggleable__label {background-color: #d4ebff;}#sk-container-id-1 div.sk-label input.sk-toggleable__control:checked~label.sk-toggleable__label {background-color: #d4ebff;}#sk-container-id-1 input.sk-hidden--visually {border: 0;clip: rect(1px 1px 1px 1px);clip: rect(1px, 1px, 1px, 1px);height: 1px;margin: -1px;overflow: hidden;padding: 0;position: absolute;width: 1px;}#sk-container-id-1 div.sk-estimator {font-family: monospace;background-color: #f0f8ff;border: 1px dotted black;border-radius: 0.25em;box-sizing: border-box;margin-bottom: 0.5em;}#sk-container-id-1 div.sk-estimator:hover {background-color: #d4ebff;}#sk-container-id-1 div.sk-parallel-item::after {content: \"\";width: 100%;border-bottom: 1px solid gray;flex-grow: 1;}#sk-container-id-1 div.sk-label:hover label.sk-toggleable__label {background-color: #d4ebff;}#sk-container-id-1 div.sk-serial::before {content: \"\";position: absolute;border-left: 1px solid gray;box-sizing: border-box;top: 0;bottom: 0;left: 50%;z-index: 0;}#sk-container-id-1 div.sk-serial {display: flex;flex-direction: column;align-items: center;background-color: white;padding-right: 0.2em;padding-left: 0.2em;position: relative;}#sk-container-id-1 div.sk-item {position: relative;z-index: 1;}#sk-container-id-1 div.sk-parallel {display: flex;align-items: stretch;justify-content: center;background-color: white;position: relative;}#sk-container-id-1 div.sk-item::before, #sk-container-id-1 div.sk-parallel-item::before {content: \"\";position: absolute;border-left: 1px solid gray;box-sizing: border-box;top: 0;bottom: 0;left: 50%;z-index: -1;}#sk-container-id-1 div.sk-parallel-item {display: flex;flex-direction: column;z-index: 1;position: relative;background-color: white;}#sk-container-id-1 div.sk-parallel-item:first-child::after {align-self: flex-end;width: 50%;}#sk-container-id-1 div.sk-parallel-item:last-child::after {align-self: flex-start;width: 50%;}#sk-container-id-1 div.sk-parallel-item:only-child::after {width: 0;}#sk-container-id-1 div.sk-dashed-wrapped {border: 1px dashed gray;margin: 0 0.4em 0.5em 0.4em;box-sizing: border-box;padding-bottom: 0.4em;background-color: white;}#sk-container-id-1 div.sk-label label {font-family: monospace;font-weight: bold;display: inline-block;line-height: 1.2em;}#sk-container-id-1 div.sk-label-container {text-align: center;}#sk-container-id-1 div.sk-container {/* jupyter's `normalize.less` sets `[hidden] { display: none; }` but bootstrap.min.css set `[hidden] { display: none !important; }` so we also need the `!important` here to be able to override the default hidden behavior on the sphinx rendered scikit-learn.org. See: https://github.com/scikit-learn/scikit-learn/issues/21755 */display: inline-block !important;position: relative;}#sk-container-id-1 div.sk-text-repr-fallback {display: none;}</style><div id=\"sk-container-id-1\" class=\"sk-top-container\"><div class=\"sk-text-repr-fallback\"><pre>StandardScaler()</pre><b>In a Jupyter environment, please rerun this cell to show the HTML representation or trust the notebook. <br />On GitHub, the HTML representation is unable to render, please try loading this page with nbviewer.org.</b></div><div class=\"sk-container\" hidden><div class=\"sk-item\"><div class=\"sk-estimator sk-toggleable\"><input class=\"sk-toggleable__control sk-hidden--visually\" id=\"sk-estimator-id-1\" type=\"checkbox\" checked><label for=\"sk-estimator-id-1\" class=\"sk-toggleable__label sk-toggleable__label-arrow\">StandardScaler</label><div class=\"sk-toggleable__content\"><pre>StandardScaler()</pre></div></div></div></div></div>"
      ],
      "text/plain": [
       "StandardScaler()"
      ]
     },
     "execution_count": 29,
     "metadata": {},
     "output_type": "execute_result"
    }
   ],
   "source": [
    "standardizer=StandardScaler()\n",
    "\n",
    "standardizer.fit(x_train)\n"
   ]
  },
  {
   "cell_type": "code",
   "execution_count": 30,
   "metadata": {},
   "outputs": [
    {
     "data": {
      "text/html": [
       "<div>\n",
       "<style scoped>\n",
       "    .dataframe tbody tr th:only-of-type {\n",
       "        vertical-align: middle;\n",
       "    }\n",
       "\n",
       "    .dataframe tbody tr th {\n",
       "        vertical-align: top;\n",
       "    }\n",
       "\n",
       "    .dataframe thead th {\n",
       "        text-align: right;\n",
       "    }\n",
       "</style>\n",
       "<table border=\"1\" class=\"dataframe\">\n",
       "  <thead>\n",
       "    <tr style=\"text-align: right;\">\n",
       "      <th></th>\n",
       "      <th>water_pollution</th>\n",
       "      <th>air_quality</th>\n",
       "      <th>population</th>\n",
       "    </tr>\n",
       "  </thead>\n",
       "  <tbody>\n",
       "    <tr>\n",
       "      <th>0</th>\n",
       "      <td>0.128302</td>\n",
       "      <td>-0.606805</td>\n",
       "      <td>0.952844</td>\n",
       "    </tr>\n",
       "    <tr>\n",
       "      <th>1</th>\n",
       "      <td>-0.666445</td>\n",
       "      <td>0.692768</td>\n",
       "      <td>-0.255893</td>\n",
       "    </tr>\n",
       "    <tr>\n",
       "      <th>2</th>\n",
       "      <td>-1.177507</td>\n",
       "      <td>0.996168</td>\n",
       "      <td>0.180543</td>\n",
       "    </tr>\n",
       "    <tr>\n",
       "      <th>3</th>\n",
       "      <td>0.484919</td>\n",
       "      <td>-0.233354</td>\n",
       "      <td>0.549680</td>\n",
       "    </tr>\n",
       "    <tr>\n",
       "      <th>4</th>\n",
       "      <td>-0.471244</td>\n",
       "      <td>-0.512191</td>\n",
       "      <td>-0.023968</td>\n",
       "    </tr>\n",
       "    <tr>\n",
       "      <th>...</th>\n",
       "      <td>...</td>\n",
       "      <td>...</td>\n",
       "      <td>...</td>\n",
       "    </tr>\n",
       "    <tr>\n",
       "      <th>107</th>\n",
       "      <td>0.307951</td>\n",
       "      <td>-0.810588</td>\n",
       "      <td>-0.277174</td>\n",
       "    </tr>\n",
       "    <tr>\n",
       "      <th>108</th>\n",
       "      <td>-1.134069</td>\n",
       "      <td>-1.109895</td>\n",
       "      <td>-0.268311</td>\n",
       "    </tr>\n",
       "    <tr>\n",
       "      <th>109</th>\n",
       "      <td>-1.908974</td>\n",
       "      <td>1.548385</td>\n",
       "      <td>-0.274431</td>\n",
       "    </tr>\n",
       "    <tr>\n",
       "      <th>110</th>\n",
       "      <td>0.000670</td>\n",
       "      <td>0.105072</td>\n",
       "      <td>0.146242</td>\n",
       "    </tr>\n",
       "    <tr>\n",
       "      <th>111</th>\n",
       "      <td>0.666177</td>\n",
       "      <td>-0.013195</td>\n",
       "      <td>-0.045225</td>\n",
       "    </tr>\n",
       "  </tbody>\n",
       "</table>\n",
       "<p>112 rows × 3 columns</p>\n",
       "</div>"
      ],
      "text/plain": [
       "     water_pollution  air_quality  population\n",
       "0           0.128302    -0.606805    0.952844\n",
       "1          -0.666445     0.692768   -0.255893\n",
       "2          -1.177507     0.996168    0.180543\n",
       "3           0.484919    -0.233354    0.549680\n",
       "4          -0.471244    -0.512191   -0.023968\n",
       "..               ...          ...         ...\n",
       "107         0.307951    -0.810588   -0.277174\n",
       "108        -1.134069    -1.109895   -0.268311\n",
       "109        -1.908974     1.548385   -0.274431\n",
       "110         0.000670     0.105072    0.146242\n",
       "111         0.666177    -0.013195   -0.045225\n",
       "\n",
       "[112 rows x 3 columns]"
      ]
     },
     "execution_count": 30,
     "metadata": {},
     "output_type": "execute_result"
    }
   ],
   "source": [
    "x_train_st = standardizer.transform(x_train)\n",
    "x_test_st= standardizer.transform(x_test)\n",
    "pd.DataFrame(x_train_st, columns=x_train.columns)\n"
   ]
  },
  {
   "cell_type": "code",
   "execution_count": 31,
   "metadata": {},
   "outputs": [
    {
     "data": {
      "text/html": [
       "<style>#sk-container-id-2 {color: black;background-color: white;}#sk-container-id-2 pre{padding: 0;}#sk-container-id-2 div.sk-toggleable {background-color: white;}#sk-container-id-2 label.sk-toggleable__label {cursor: pointer;display: block;width: 100%;margin-bottom: 0;padding: 0.3em;box-sizing: border-box;text-align: center;}#sk-container-id-2 label.sk-toggleable__label-arrow:before {content: \"▸\";float: left;margin-right: 0.25em;color: #696969;}#sk-container-id-2 label.sk-toggleable__label-arrow:hover:before {color: black;}#sk-container-id-2 div.sk-estimator:hover label.sk-toggleable__label-arrow:before {color: black;}#sk-container-id-2 div.sk-toggleable__content {max-height: 0;max-width: 0;overflow: hidden;text-align: left;background-color: #f0f8ff;}#sk-container-id-2 div.sk-toggleable__content pre {margin: 0.2em;color: black;border-radius: 0.25em;background-color: #f0f8ff;}#sk-container-id-2 input.sk-toggleable__control:checked~div.sk-toggleable__content {max-height: 200px;max-width: 100%;overflow: auto;}#sk-container-id-2 input.sk-toggleable__control:checked~label.sk-toggleable__label-arrow:before {content: \"▾\";}#sk-container-id-2 div.sk-estimator input.sk-toggleable__control:checked~label.sk-toggleable__label {background-color: #d4ebff;}#sk-container-id-2 div.sk-label input.sk-toggleable__control:checked~label.sk-toggleable__label {background-color: #d4ebff;}#sk-container-id-2 input.sk-hidden--visually {border: 0;clip: rect(1px 1px 1px 1px);clip: rect(1px, 1px, 1px, 1px);height: 1px;margin: -1px;overflow: hidden;padding: 0;position: absolute;width: 1px;}#sk-container-id-2 div.sk-estimator {font-family: monospace;background-color: #f0f8ff;border: 1px dotted black;border-radius: 0.25em;box-sizing: border-box;margin-bottom: 0.5em;}#sk-container-id-2 div.sk-estimator:hover {background-color: #d4ebff;}#sk-container-id-2 div.sk-parallel-item::after {content: \"\";width: 100%;border-bottom: 1px solid gray;flex-grow: 1;}#sk-container-id-2 div.sk-label:hover label.sk-toggleable__label {background-color: #d4ebff;}#sk-container-id-2 div.sk-serial::before {content: \"\";position: absolute;border-left: 1px solid gray;box-sizing: border-box;top: 0;bottom: 0;left: 50%;z-index: 0;}#sk-container-id-2 div.sk-serial {display: flex;flex-direction: column;align-items: center;background-color: white;padding-right: 0.2em;padding-left: 0.2em;position: relative;}#sk-container-id-2 div.sk-item {position: relative;z-index: 1;}#sk-container-id-2 div.sk-parallel {display: flex;align-items: stretch;justify-content: center;background-color: white;position: relative;}#sk-container-id-2 div.sk-item::before, #sk-container-id-2 div.sk-parallel-item::before {content: \"\";position: absolute;border-left: 1px solid gray;box-sizing: border-box;top: 0;bottom: 0;left: 50%;z-index: -1;}#sk-container-id-2 div.sk-parallel-item {display: flex;flex-direction: column;z-index: 1;position: relative;background-color: white;}#sk-container-id-2 div.sk-parallel-item:first-child::after {align-self: flex-end;width: 50%;}#sk-container-id-2 div.sk-parallel-item:last-child::after {align-self: flex-start;width: 50%;}#sk-container-id-2 div.sk-parallel-item:only-child::after {width: 0;}#sk-container-id-2 div.sk-dashed-wrapped {border: 1px dashed gray;margin: 0 0.4em 0.5em 0.4em;box-sizing: border-box;padding-bottom: 0.4em;background-color: white;}#sk-container-id-2 div.sk-label label {font-family: monospace;font-weight: bold;display: inline-block;line-height: 1.2em;}#sk-container-id-2 div.sk-label-container {text-align: center;}#sk-container-id-2 div.sk-container {/* jupyter's `normalize.less` sets `[hidden] { display: none; }` but bootstrap.min.css set `[hidden] { display: none !important; }` so we also need the `!important` here to be able to override the default hidden behavior on the sphinx rendered scikit-learn.org. See: https://github.com/scikit-learn/scikit-learn/issues/21755 */display: inline-block !important;position: relative;}#sk-container-id-2 div.sk-text-repr-fallback {display: none;}</style><div id=\"sk-container-id-2\" class=\"sk-top-container\"><div class=\"sk-text-repr-fallback\"><pre>KNeighborsRegressor(n_neighbors=10)</pre><b>In a Jupyter environment, please rerun this cell to show the HTML representation or trust the notebook. <br />On GitHub, the HTML representation is unable to render, please try loading this page with nbviewer.org.</b></div><div class=\"sk-container\" hidden><div class=\"sk-item\"><div class=\"sk-estimator sk-toggleable\"><input class=\"sk-toggleable__control sk-hidden--visually\" id=\"sk-estimator-id-2\" type=\"checkbox\" checked><label for=\"sk-estimator-id-2\" class=\"sk-toggleable__label sk-toggleable__label-arrow\">KNeighborsRegressor</label><div class=\"sk-toggleable__content\"><pre>KNeighborsRegressor(n_neighbors=10)</pre></div></div></div></div></div>"
      ],
      "text/plain": [
       "KNeighborsRegressor(n_neighbors=10)"
      ]
     },
     "execution_count": 31,
     "metadata": {},
     "output_type": "execute_result"
    }
   ],
   "source": [
    "from sklearn.neighbors import KNeighborsRegressor\n",
    "knn=KNeighborsRegressor(n_neighbors=10)\n",
    "knn.fit(x_train_st,y_train)\n"
   ]
  },
  {
   "cell_type": "code",
   "execution_count": 32,
   "metadata": {},
   "outputs": [
    {
     "data": {
      "text/plain": [
       "-0.08069267115184164"
      ]
     },
     "execution_count": 32,
     "metadata": {},
     "output_type": "execute_result"
    }
   ],
   "source": [
    "knn.score(x_test_st,y_test)"
   ]
  },
  {
   "cell_type": "code",
   "execution_count": 33,
   "metadata": {},
   "outputs": [
    {
     "data": {
      "text/plain": [
       "8.365274750728299"
      ]
     },
     "execution_count": 33,
     "metadata": {},
     "output_type": "execute_result"
    }
   ],
   "source": [
    "import numpy as np\n",
    "from sklearn.metrics import mean_squared_error\n",
    "pred=knn.predict(x_test_st)\n",
    "np.sqrt(mean_squared_error(y_test,pred))\n"
   ]
  },
  {
   "cell_type": "code",
   "execution_count": 34,
   "metadata": {},
   "outputs": [
    {
     "data": {
      "text/plain": [
       "array([71.035, 71.455, 77.152, 60.038, 70.013, 70.105, 67.922, 58.926,\n",
       "       72.293, 68.068, 69.578, 70.999, 67.809, 72.117, 71.339, 78.146,\n",
       "       69.386, 68.704, 67.779, 74.052, 67.56 , 67.56 , 68.695, 77.21 ,\n",
       "       69.358, 75.547, 75.76 , 73.66 , 71.834])"
      ]
     },
     "execution_count": 34,
     "metadata": {},
     "output_type": "execute_result"
    }
   ],
   "source": [
    "knn.predict(x_test_st)"
   ]
  },
  {
   "cell_type": "code",
   "execution_count": 35,
   "metadata": {},
   "outputs": [
    {
     "data": {
      "text/plain": [
       "Country\n",
       "Georgia       73.51\n",
       "Italy         82.19\n",
       "Austria       81.48\n",
       "Guinea        56.01\n",
       "Kyrgyzstan    69.08\n",
       "Chile         79.45\n",
       "Libya         72.49\n",
       "Honduras      72.99\n",
       "Sweden        82.52\n",
       "Azerbaijan    70.73\n",
       "Malaysia      73.76\n",
       "Bhutan        66.16\n",
       "Thailand      73.08\n",
       "Suriname      70.08\n",
       "Tajikistan    66.66\n",
       "Paraguay      73.11\n",
       "Rwanda        59.31\n",
       "Mongolia      65.89\n",
       "Djibouti      60.76\n",
       "Indonesia     67.56\n",
       "Nicaragua     73.45\n",
       "Cambodia      64.34\n",
       "Vanuatu       71.39\n",
       "Canada        81.69\n",
       "Algeria       73.62\n",
       "Seychelles    72.38\n",
       "Chad          50.39\n",
       "Sudan         61.82\n",
       "Botswana      56.05\n",
       "Name: life_expectancy, dtype: float64"
      ]
     },
     "execution_count": 35,
     "metadata": {},
     "output_type": "execute_result"
    }
   ],
   "source": [
    "y_test"
   ]
  },
  {
   "cell_type": "code",
   "execution_count": 36,
   "metadata": {},
   "outputs": [
    {
     "data": {
      "text/plain": [
       "<Axes: xlabel='life_expectancy', ylabel='Count'>"
      ]
     },
     "execution_count": 36,
     "metadata": {},
     "output_type": "execute_result"
    },
    {
     "data": {
      "image/png": "[encoded data removed]",
      "text/plain": [
       "<Figure size 640x480 with 1 Axes>"
      ]
     },
     "metadata": {},
     "output_type": "display_data"
    }
   ],
   "source": [
    "sns.histplot(knn.predict(x_test_st), kde=True)\n",
    "sns.histplot(y_test, kde=True)"
   ]
  },
  {
   "cell_type": "code",
   "execution_count": 37,
   "metadata": {},
   "outputs": [],
   "source": [
    "features=dfmort.drop(columns=[\"adult_mortality\"])\n",
    "target=dfmort[\"adult_mortality\"]\n",
    "x_train,x_test,y_train,y_test=train_test_split(features, target, test_size=0.20,random_state=0)"
   ]
  },
  {
   "cell_type": "code",
   "execution_count": 38,
   "metadata": {},
   "outputs": [
    {
     "data": {
      "text/html": [
       "<style>#sk-container-id-3 {color: black;background-color: white;}#sk-container-id-3 pre{padding: 0;}#sk-container-id-3 div.sk-toggleable {background-color: white;}#sk-container-id-3 label.sk-toggleable__label {cursor: pointer;display: block;width: 100%;margin-bottom: 0;padding: 0.3em;box-sizing: border-box;text-align: center;}#sk-container-id-3 label.sk-toggleable__label-arrow:before {content: \"▸\";float: left;margin-right: 0.25em;color: #696969;}#sk-container-id-3 label.sk-toggleable__label-arrow:hover:before {color: black;}#sk-container-id-3 div.sk-estimator:hover label.sk-toggleable__label-arrow:before {color: black;}#sk-container-id-3 div.sk-toggleable__content {max-height: 0;max-width: 0;overflow: hidden;text-align: left;background-color: #f0f8ff;}#sk-container-id-3 div.sk-toggleable__content pre {margin: 0.2em;color: black;border-radius: 0.25em;background-color: #f0f8ff;}#sk-container-id-3 input.sk-toggleable__control:checked~div.sk-toggleable__content {max-height: 200px;max-width: 100%;overflow: auto;}#sk-container-id-3 input.sk-toggleable__control:checked~label.sk-toggleable__label-arrow:before {content: \"▾\";}#sk-container-id-3 div.sk-estimator input.sk-toggleable__control:checked~label.sk-toggleable__label {background-color: #d4ebff;}#sk-container-id-3 div.sk-label input.sk-toggleable__control:checked~label.sk-toggleable__label {background-color: #d4ebff;}#sk-container-id-3 input.sk-hidden--visually {border: 0;clip: rect(1px 1px 1px 1px);clip: rect(1px, 1px, 1px, 1px);height: 1px;margin: -1px;overflow: hidden;padding: 0;position: absolute;width: 1px;}#sk-container-id-3 div.sk-estimator {font-family: monospace;background-color: #f0f8ff;border: 1px dotted black;border-radius: 0.25em;box-sizing: border-box;margin-bottom: 0.5em;}#sk-container-id-3 div.sk-estimator:hover {background-color: #d4ebff;}#sk-container-id-3 div.sk-parallel-item::after {content: \"\";width: 100%;border-bottom: 1px solid gray;flex-grow: 1;}#sk-container-id-3 div.sk-label:hover label.sk-toggleable__label {background-color: #d4ebff;}#sk-container-id-3 div.sk-serial::before {content: \"\";position: absolute;border-left: 1px solid gray;box-sizing: border-box;top: 0;bottom: 0;left: 50%;z-index: 0;}#sk-container-id-3 div.sk-serial {display: flex;flex-direction: column;align-items: center;background-color: white;padding-right: 0.2em;padding-left: 0.2em;position: relative;}#sk-container-id-3 div.sk-item {position: relative;z-index: 1;}#sk-container-id-3 div.sk-parallel {display: flex;align-items: stretch;justify-content: center;background-color: white;position: relative;}#sk-container-id-3 div.sk-item::before, #sk-container-id-3 div.sk-parallel-item::before {content: \"\";position: absolute;border-left: 1px solid gray;box-sizing: border-box;top: 0;bottom: 0;left: 50%;z-index: -1;}#sk-container-id-3 div.sk-parallel-item {display: flex;flex-direction: column;z-index: 1;position: relative;background-color: white;}#sk-container-id-3 div.sk-parallel-item:first-child::after {align-self: flex-end;width: 50%;}#sk-container-id-3 div.sk-parallel-item:last-child::after {align-self: flex-start;width: 50%;}#sk-container-id-3 div.sk-parallel-item:only-child::after {width: 0;}#sk-container-id-3 div.sk-dashed-wrapped {border: 1px dashed gray;margin: 0 0.4em 0.5em 0.4em;box-sizing: border-box;padding-bottom: 0.4em;background-color: white;}#sk-container-id-3 div.sk-label label {font-family: monospace;font-weight: bold;display: inline-block;line-height: 1.2em;}#sk-container-id-3 div.sk-label-container {text-align: center;}#sk-container-id-3 div.sk-container {/* jupyter's `normalize.less` sets `[hidden] { display: none; }` but bootstrap.min.css set `[hidden] { display: none !important; }` so we also need the `!important` here to be able to override the default hidden behavior on the sphinx rendered scikit-learn.org. See: https://github.com/scikit-learn/scikit-learn/issues/21755 */display: inline-block !important;position: relative;}#sk-container-id-3 div.sk-text-repr-fallback {display: none;}</style><div id=\"sk-container-id-3\" class=\"sk-top-container\"><div class=\"sk-text-repr-fallback\"><pre>StandardScaler()</pre><b>In a Jupyter environment, please rerun this cell to show the HTML representation or trust the notebook. <br />On GitHub, the HTML representation is unable to render, please try loading this page with nbviewer.org.</b></div><div class=\"sk-container\" hidden><div class=\"sk-item\"><div class=\"sk-estimator sk-toggleable\"><input class=\"sk-toggleable__control sk-hidden--visually\" id=\"sk-estimator-id-3\" type=\"checkbox\" checked><label for=\"sk-estimator-id-3\" class=\"sk-toggleable__label sk-toggleable__label-arrow\">StandardScaler</label><div class=\"sk-toggleable__content\"><pre>StandardScaler()</pre></div></div></div></div></div>"
      ],
      "text/plain": [
       "StandardScaler()"
      ]
     },
     "execution_count": 38,
     "metadata": {},
     "output_type": "execute_result"
    }
   ],
   "source": [
    "standardizer=StandardScaler()\n",
    "\n",
    "standardizer.fit(x_train)"
   ]
  },
  {
   "cell_type": "code",
   "execution_count": 39,
   "metadata": {},
   "outputs": [
    {
     "data": {
      "text/html": [
       "<div>\n",
       "<style scoped>\n",
       "    .dataframe tbody tr th:only-of-type {\n",
       "        vertical-align: middle;\n",
       "    }\n",
       "\n",
       "    .dataframe tbody tr th {\n",
       "        vertical-align: top;\n",
       "    }\n",
       "\n",
       "    .dataframe thead th {\n",
       "        text-align: right;\n",
       "    }\n",
       "</style>\n",
       "<table border=\"1\" class=\"dataframe\">\n",
       "  <thead>\n",
       "    <tr style=\"text-align: right;\">\n",
       "      <th></th>\n",
       "      <th>water_pollution</th>\n",
       "      <th>air_quality</th>\n",
       "      <th>population</th>\n",
       "    </tr>\n",
       "  </thead>\n",
       "  <tbody>\n",
       "    <tr>\n",
       "      <th>0</th>\n",
       "      <td>0.128302</td>\n",
       "      <td>-0.606805</td>\n",
       "      <td>0.952844</td>\n",
       "    </tr>\n",
       "    <tr>\n",
       "      <th>1</th>\n",
       "      <td>-0.666445</td>\n",
       "      <td>0.692768</td>\n",
       "      <td>-0.255893</td>\n",
       "    </tr>\n",
       "    <tr>\n",
       "      <th>2</th>\n",
       "      <td>-1.177507</td>\n",
       "      <td>0.996168</td>\n",
       "      <td>0.180543</td>\n",
       "    </tr>\n",
       "    <tr>\n",
       "      <th>3</th>\n",
       "      <td>0.484919</td>\n",
       "      <td>-0.233354</td>\n",
       "      <td>0.549680</td>\n",
       "    </tr>\n",
       "    <tr>\n",
       "      <th>4</th>\n",
       "      <td>-0.471244</td>\n",
       "      <td>-0.512191</td>\n",
       "      <td>-0.023968</td>\n",
       "    </tr>\n",
       "    <tr>\n",
       "      <th>...</th>\n",
       "      <td>...</td>\n",
       "      <td>...</td>\n",
       "      <td>...</td>\n",
       "    </tr>\n",
       "    <tr>\n",
       "      <th>107</th>\n",
       "      <td>0.307951</td>\n",
       "      <td>-0.810588</td>\n",
       "      <td>-0.277174</td>\n",
       "    </tr>\n",
       "    <tr>\n",
       "      <th>108</th>\n",
       "      <td>-1.134069</td>\n",
       "      <td>-1.109895</td>\n",
       "      <td>-0.268311</td>\n",
       "    </tr>\n",
       "    <tr>\n",
       "      <th>109</th>\n",
       "      <td>-1.908974</td>\n",
       "      <td>1.548385</td>\n",
       "      <td>-0.274431</td>\n",
       "    </tr>\n",
       "    <tr>\n",
       "      <th>110</th>\n",
       "      <td>0.000670</td>\n",
       "      <td>0.105072</td>\n",
       "      <td>0.146242</td>\n",
       "    </tr>\n",
       "    <tr>\n",
       "      <th>111</th>\n",
       "      <td>0.666177</td>\n",
       "      <td>-0.013195</td>\n",
       "      <td>-0.045225</td>\n",
       "    </tr>\n",
       "  </tbody>\n",
       "</table>\n",
       "<p>112 rows × 3 columns</p>\n",
       "</div>"
      ],
      "text/plain": [
       "     water_pollution  air_quality  population\n",
       "0           0.128302    -0.606805    0.952844\n",
       "1          -0.666445     0.692768   -0.255893\n",
       "2          -1.177507     0.996168    0.180543\n",
       "3           0.484919    -0.233354    0.549680\n",
       "4          -0.471244    -0.512191   -0.023968\n",
       "..               ...          ...         ...\n",
       "107         0.307951    -0.810588   -0.277174\n",
       "108        -1.134069    -1.109895   -0.268311\n",
       "109        -1.908974     1.548385   -0.274431\n",
       "110         0.000670     0.105072    0.146242\n",
       "111         0.666177    -0.013195   -0.045225\n",
       "\n",
       "[112 rows x 3 columns]"
      ]
     },
     "execution_count": 39,
     "metadata": {},
     "output_type": "execute_result"
    }
   ],
   "source": [
    "x_train_st = standardizer.transform(x_train)\n",
    "x_test_st= standardizer.transform(x_test)\n",
    "pd.DataFrame(x_train_st, columns=x_train.columns)"
   ]
  },
  {
   "cell_type": "code",
   "execution_count": 40,
   "metadata": {},
   "outputs": [
    {
     "data": {
      "text/html": [
       "<style>#sk-container-id-4 {color: black;background-color: white;}#sk-container-id-4 pre{padding: 0;}#sk-container-id-4 div.sk-toggleable {background-color: white;}#sk-container-id-4 label.sk-toggleable__label {cursor: pointer;display: block;width: 100%;margin-bottom: 0;padding: 0.3em;box-sizing: border-box;text-align: center;}#sk-container-id-4 label.sk-toggleable__label-arrow:before {content: \"▸\";float: left;margin-right: 0.25em;color: #696969;}#sk-container-id-4 label.sk-toggleable__label-arrow:hover:before {color: black;}#sk-container-id-4 div.sk-estimator:hover label.sk-toggleable__label-arrow:before {color: black;}#sk-container-id-4 div.sk-toggleable__content {max-height: 0;max-width: 0;overflow: hidden;text-align: left;background-color: #f0f8ff;}#sk-container-id-4 div.sk-toggleable__content pre {margin: 0.2em;color: black;border-radius: 0.25em;background-color: #f0f8ff;}#sk-container-id-4 input.sk-toggleable__control:checked~div.sk-toggleable__content {max-height: 200px;max-width: 100%;overflow: auto;}#sk-container-id-4 input.sk-toggleable__control:checked~label.sk-toggleable__label-arrow:before {content: \"▾\";}#sk-container-id-4 div.sk-estimator input.sk-toggleable__control:checked~label.sk-toggleable__label {background-color: #d4ebff;}#sk-container-id-4 div.sk-label input.sk-toggleable__control:checked~label.sk-toggleable__label {background-color: #d4ebff;}#sk-container-id-4 input.sk-hidden--visually {border: 0;clip: rect(1px 1px 1px 1px);clip: rect(1px, 1px, 1px, 1px);height: 1px;margin: -1px;overflow: hidden;padding: 0;position: absolute;width: 1px;}#sk-container-id-4 div.sk-estimator {font-family: monospace;background-color: #f0f8ff;border: 1px dotted black;border-radius: 0.25em;box-sizing: border-box;margin-bottom: 0.5em;}#sk-container-id-4 div.sk-estimator:hover {background-color: #d4ebff;}#sk-container-id-4 div.sk-parallel-item::after {content: \"\";width: 100%;border-bottom: 1px solid gray;flex-grow: 1;}#sk-container-id-4 div.sk-label:hover label.sk-toggleable__label {background-color: #d4ebff;}#sk-container-id-4 div.sk-serial::before {content: \"\";position: absolute;border-left: 1px solid gray;box-sizing: border-box;top: 0;bottom: 0;left: 50%;z-index: 0;}#sk-container-id-4 div.sk-serial {display: flex;flex-direction: column;align-items: center;background-color: white;padding-right: 0.2em;padding-left: 0.2em;position: relative;}#sk-container-id-4 div.sk-item {position: relative;z-index: 1;}#sk-container-id-4 div.sk-parallel {display: flex;align-items: stretch;justify-content: center;background-color: white;position: relative;}#sk-container-id-4 div.sk-item::before, #sk-container-id-4 div.sk-parallel-item::before {content: \"\";position: absolute;border-left: 1px solid gray;box-sizing: border-box;top: 0;bottom: 0;left: 50%;z-index: -1;}#sk-container-id-4 div.sk-parallel-item {display: flex;flex-direction: column;z-index: 1;position: relative;background-color: white;}#sk-container-id-4 div.sk-parallel-item:first-child::after {align-self: flex-end;width: 50%;}#sk-container-id-4 div.sk-parallel-item:last-child::after {align-self: flex-start;width: 50%;}#sk-container-id-4 div.sk-parallel-item:only-child::after {width: 0;}#sk-container-id-4 div.sk-dashed-wrapped {border: 1px dashed gray;margin: 0 0.4em 0.5em 0.4em;box-sizing: border-box;padding-bottom: 0.4em;background-color: white;}#sk-container-id-4 div.sk-label label {font-family: monospace;font-weight: bold;display: inline-block;line-height: 1.2em;}#sk-container-id-4 div.sk-label-container {text-align: center;}#sk-container-id-4 div.sk-container {/* jupyter's `normalize.less` sets `[hidden] { display: none; }` but bootstrap.min.css set `[hidden] { display: none !important; }` so we also need the `!important` here to be able to override the default hidden behavior on the sphinx rendered scikit-learn.org. See: https://github.com/scikit-learn/scikit-learn/issues/21755 */display: inline-block !important;position: relative;}#sk-container-id-4 div.sk-text-repr-fallback {display: none;}</style><div id=\"sk-container-id-4\" class=\"sk-top-container\"><div class=\"sk-text-repr-fallback\"><pre>KNeighborsRegressor(n_neighbors=10)</pre><b>In a Jupyter environment, please rerun this cell to show the HTML representation or trust the notebook. <br />On GitHub, the HTML representation is unable to render, please try loading this page with nbviewer.org.</b></div><div class=\"sk-container\" hidden><div class=\"sk-item\"><div class=\"sk-estimator sk-toggleable\"><input class=\"sk-toggleable__control sk-hidden--visually\" id=\"sk-estimator-id-4\" type=\"checkbox\" checked><label for=\"sk-estimator-id-4\" class=\"sk-toggleable__label sk-toggleable__label-arrow\">KNeighborsRegressor</label><div class=\"sk-toggleable__content\"><pre>KNeighborsRegressor(n_neighbors=10)</pre></div></div></div></div></div>"
      ],
      "text/plain": [
       "KNeighborsRegressor(n_neighbors=10)"
      ]
     },
     "execution_count": 40,
     "metadata": {},
     "output_type": "execute_result"
    }
   ],
   "source": [
    "\n",
    "knn=KNeighborsRegressor(n_neighbors=10)\n",
    "knn.fit(x_train_st,y_train)"
   ]
  },
  {
   "cell_type": "code",
   "execution_count": 41,
   "metadata": {},
   "outputs": [
    {
     "data": {
      "text/plain": [
       "-0.11396983887639323"
      ]
     },
     "execution_count": 41,
     "metadata": {},
     "output_type": "execute_result"
    }
   ],
   "source": [
    "knn.score(x_test_st,y_test)"
   ]
  },
  {
   "cell_type": "code",
   "execution_count": 42,
   "metadata": {},
   "outputs": [
    {
     "data": {
      "text/plain": [
       "86.05010343599145"
      ]
     },
     "execution_count": 42,
     "metadata": {},
     "output_type": "execute_result"
    }
   ],
   "source": [
    "pred=knn.predict(x_test_st)\n",
    "np.sqrt(mean_squared_error(y_test,pred))"
   ]
  },
  {
   "cell_type": "code",
   "execution_count": 43,
   "metadata": {},
   "outputs": [
    {
     "data": {
      "text/plain": [
       "array([153.995, 152.138,  98.881, 231.955, 139.531, 137.938, 185.906,\n",
       "       280.725, 157.825, 154.382, 166.75 , 152.675, 193.793, 136.507,\n",
       "       132.895,  88.605, 170.588, 129.901, 204.751, 138.568, 179.262,\n",
       "       179.262, 175.337, 108.088, 182.726, 109.505, 110.412, 135.462,\n",
       "       147.126])"
      ]
     },
     "execution_count": 43,
     "metadata": {},
     "output_type": "execute_result"
    }
   ],
   "source": [
    "knn.predict(x_test_st)"
   ]
  },
  {
   "cell_type": "code",
   "execution_count": 44,
   "metadata": {},
   "outputs": [
    {
     "data": {
      "text/plain": [
       "Country\n",
       "Georgia       114.94\n",
       "Italy          54.19\n",
       "Austria        65.75\n",
       "Guinea        259.88\n",
       "Kyrgyzstan    173.69\n",
       "Chile          63.62\n",
       "Libya         139.69\n",
       "Honduras      142.00\n",
       "Sweden         59.19\n",
       "Azerbaijan    115.19\n",
       "Malaysia      118.56\n",
       "Bhutan        230.25\n",
       "Thailand      160.38\n",
       "Suriname      166.00\n",
       "Tajikistan    177.56\n",
       "Paraguay      139.94\n",
       "Rwanda        246.81\n",
       "Mongolia      222.12\n",
       "Djibouti      274.69\n",
       "Indonesia     166.56\n",
       "Nicaragua     162.38\n",
       "Cambodia      196.38\n",
       "Vanuatu       137.88\n",
       "Canada         64.62\n",
       "Algeria       108.19\n",
       "Seychelles    161.19\n",
       "Chad          227.75\n",
       "Sudan         240.31\n",
       "Botswana      448.12\n",
       "Name: adult_mortality, dtype: float64"
      ]
     },
     "execution_count": 44,
     "metadata": {},
     "output_type": "execute_result"
    }
   ],
   "source": [
    "y_test"
   ]
  },
  {
   "cell_type": "code",
   "execution_count": 45,
   "metadata": {},
   "outputs": [
    {
     "data": {
      "text/plain": [
       "<Axes: xlabel='adult_mortality', ylabel='Count'>"
      ]
     },
     "execution_count": 45,
     "metadata": {},
     "output_type": "execute_result"
    },
    {
     "data": {
      "image/png": "[encoded data removed]",
      "text/plain": [
       "<Figure size 640x480 with 1 Axes>"
      ]
     },
     "metadata": {},
     "output_type": "display_data"
    }
   ],
   "source": [
    "sns.histplot(knn.predict(x_test_st), kde=True)\n",
    "sns.histplot(y_test, kde=True)"
   ]
  },
  {
   "cell_type": "code",
   "execution_count": 46,
   "metadata": {},
   "outputs": [],
   "source": [
    "#what if I got rid of the population?\n",
    "corr=np.abs(dflife.corr())\n",
    "mask=np.zeros_like(corr,dtype=bool)\n",
    "mask[np.triu_indices_from(mask)]=True\n"
   ]
  },
  {
   "cell_type": "code",
   "execution_count": 47,
   "metadata": {},
   "outputs": [],
   "source": [
    "\n",
    "mask=np.zeros_like(corr,dtype=bool)\n",
    "mask[np.triu_indices_from(mask)]=True"
   ]
  },
  {
   "cell_type": "code",
   "execution_count": 48,
   "metadata": {},
   "outputs": [
    {
     "data": {
      "image/png": "[encoded data removed]",
      "text/plain": [
       "<Figure size 1000x1000 with 2 Axes>"
      ]
     },
     "metadata": {},
     "output_type": "display_data"
    }
   ],
   "source": [
    "f, ax = plt.subplots(figsize=(10, 10))\n",
    "cmap = sns.diverging_palette(220, 10, as_cmap=True)\n",
    "sns.heatmap(corr, mask=mask,  vmax=1,square=True, linewidths=.8, cbar_kws={\"shrink\": .5},annot = corr)\n",
    "plt.show()\n"
   ]
  },
  {
   "cell_type": "code",
   "execution_count": null,
   "metadata": {},
   "outputs": [],
   "source": []
  },
  {
   "cell_type": "code",
   "execution_count": 49,
   "metadata": {},
   "outputs": [
    {
     "data": {
      "text/plain": [
       "-0.11396983887639323"
      ]
     },
     "execution_count": 49,
     "metadata": {},
     "output_type": "execute_result"
    }
   ],
   "source": [
    "knn.score(x_test_st,y_test)"
   ]
  },
  {
   "cell_type": "code",
   "execution_count": 50,
   "metadata": {},
   "outputs": [
    {
     "data": {
      "text/plain": [
       "86.05010343599145"
      ]
     },
     "execution_count": 50,
     "metadata": {},
     "output_type": "execute_result"
    }
   ],
   "source": [
    "pred=knn.predict(x_test_st)\n",
    "np.sqrt(mean_squared_error(y_test,pred))"
   ]
  },
  {
   "cell_type": "code",
   "execution_count": 51,
   "metadata": {},
   "outputs": [
    {
     "data": {
      "text/html": [
       "<div>\n",
       "<style scoped>\n",
       "    .dataframe tbody tr th:only-of-type {\n",
       "        vertical-align: middle;\n",
       "    }\n",
       "\n",
       "    .dataframe tbody tr th {\n",
       "        vertical-align: top;\n",
       "    }\n",
       "\n",
       "    .dataframe thead th {\n",
       "        text-align: right;\n",
       "    }\n",
       "</style>\n",
       "<table border=\"1\" class=\"dataframe\">\n",
       "  <thead>\n",
       "    <tr style=\"text-align: right;\">\n",
       "      <th></th>\n",
       "      <th>water_pollution</th>\n",
       "      <th>air_quality</th>\n",
       "      <th>adult_mortality</th>\n",
       "      <th>population</th>\n",
       "    </tr>\n",
       "    <tr>\n",
       "      <th>Country</th>\n",
       "      <th></th>\n",
       "      <th></th>\n",
       "      <th></th>\n",
       "      <th></th>\n",
       "    </tr>\n",
       "  </thead>\n",
       "  <tbody>\n",
       "    <tr>\n",
       "      <th>Afghanistan</th>\n",
       "      <td>53.44</td>\n",
       "      <td>37.21</td>\n",
       "      <td>269.06</td>\n",
       "      <td>41128771</td>\n",
       "    </tr>\n",
       "    <tr>\n",
       "      <th>Albania</th>\n",
       "      <td>57.83</td>\n",
       "      <td>51.87</td>\n",
       "      <td>45.06</td>\n",
       "      <td>2842321</td>\n",
       "    </tr>\n",
       "    <tr>\n",
       "      <th>Algeria</th>\n",
       "      <td>50.62</td>\n",
       "      <td>57.61</td>\n",
       "      <td>108.19</td>\n",
       "      <td>44903225</td>\n",
       "    </tr>\n",
       "    <tr>\n",
       "      <th>Angola</th>\n",
       "      <td>81.25</td>\n",
       "      <td>15.00</td>\n",
       "      <td>328.56</td>\n",
       "      <td>35588987</td>\n",
       "    </tr>\n",
       "    <tr>\n",
       "      <th>Argentina</th>\n",
       "      <td>54.28</td>\n",
       "      <td>68.15</td>\n",
       "      <td>106.00</td>\n",
       "      <td>45510318</td>\n",
       "    </tr>\n",
       "    <tr>\n",
       "      <th>...</th>\n",
       "      <td>...</td>\n",
       "      <td>...</td>\n",
       "      <td>...</td>\n",
       "      <td>...</td>\n",
       "    </tr>\n",
       "    <tr>\n",
       "      <th>Uzbekistan</th>\n",
       "      <td>49.17</td>\n",
       "      <td>56.45</td>\n",
       "      <td>184.81</td>\n",
       "      <td>34627652</td>\n",
       "    </tr>\n",
       "    <tr>\n",
       "      <th>Vanuatu</th>\n",
       "      <td>70.00</td>\n",
       "      <td>75.00</td>\n",
       "      <td>137.88</td>\n",
       "      <td>326740</td>\n",
       "    </tr>\n",
       "    <tr>\n",
       "      <th>Yemen</th>\n",
       "      <td>85.42</td>\n",
       "      <td>39.58</td>\n",
       "      <td>211.81</td>\n",
       "      <td>33696614</td>\n",
       "    </tr>\n",
       "    <tr>\n",
       "      <th>Zambia</th>\n",
       "      <td>80.77</td>\n",
       "      <td>45.83</td>\n",
       "      <td>354.31</td>\n",
       "      <td>20017675</td>\n",
       "    </tr>\n",
       "    <tr>\n",
       "      <th>Zimbabwe</th>\n",
       "      <td>74.11</td>\n",
       "      <td>45.33</td>\n",
       "      <td>462.38</td>\n",
       "      <td>16320537</td>\n",
       "    </tr>\n",
       "  </tbody>\n",
       "</table>\n",
       "<p>141 rows × 4 columns</p>\n",
       "</div>"
      ],
      "text/plain": [
       "             water_pollution  air_quality  adult_mortality  population\n",
       "Country                                                               \n",
       "Afghanistan            53.44        37.21           269.06    41128771\n",
       "Albania                57.83        51.87            45.06     2842321\n",
       "Algeria                50.62        57.61           108.19    44903225\n",
       "Angola                 81.25        15.00           328.56    35588987\n",
       "Argentina              54.28        68.15           106.00    45510318\n",
       "...                      ...          ...              ...         ...\n",
       "Uzbekistan             49.17        56.45           184.81    34627652\n",
       "Vanuatu                70.00        75.00           137.88      326740\n",
       "Yemen                  85.42        39.58           211.81    33696614\n",
       "Zambia                 80.77        45.83           354.31    20017675\n",
       "Zimbabwe               74.11        45.33           462.38    16320537\n",
       "\n",
       "[141 rows x 4 columns]"
      ]
     },
     "execution_count": 51,
     "metadata": {},
     "output_type": "execute_result"
    }
   ],
   "source": [
    "dfmort"
   ]
  },
  {
   "cell_type": "code",
   "execution_count": 52,
   "metadata": {},
   "outputs": [],
   "source": [
    "features=dfhep.drop(columns=[\"hepatitis_b\"])\n",
    "target=dfhep[\"hepatitis_b\"]\n",
    "x_train,x_test,y_train,y_test=train_test_split(features, target, test_size=0.20,random_state=0)"
   ]
  },
  {
   "cell_type": "code",
   "execution_count": 53,
   "metadata": {},
   "outputs": [
    {
     "data": {
      "text/html": [
       "<style>#sk-container-id-5 {color: black;background-color: white;}#sk-container-id-5 pre{padding: 0;}#sk-container-id-5 div.sk-toggleable {background-color: white;}#sk-container-id-5 label.sk-toggleable__label {cursor: pointer;display: block;width: 100%;margin-bottom: 0;padding: 0.3em;box-sizing: border-box;text-align: center;}#sk-container-id-5 label.sk-toggleable__label-arrow:before {content: \"▸\";float: left;margin-right: 0.25em;color: #696969;}#sk-container-id-5 label.sk-toggleable__label-arrow:hover:before {color: black;}#sk-container-id-5 div.sk-estimator:hover label.sk-toggleable__label-arrow:before {color: black;}#sk-container-id-5 div.sk-toggleable__content {max-height: 0;max-width: 0;overflow: hidden;text-align: left;background-color: #f0f8ff;}#sk-container-id-5 div.sk-toggleable__content pre {margin: 0.2em;color: black;border-radius: 0.25em;background-color: #f0f8ff;}#sk-container-id-5 input.sk-toggleable__control:checked~div.sk-toggleable__content {max-height: 200px;max-width: 100%;overflow: auto;}#sk-container-id-5 input.sk-toggleable__control:checked~label.sk-toggleable__label-arrow:before {content: \"▾\";}#sk-container-id-5 div.sk-estimator input.sk-toggleable__control:checked~label.sk-toggleable__label {background-color: #d4ebff;}#sk-container-id-5 div.sk-label input.sk-toggleable__control:checked~label.sk-toggleable__label {background-color: #d4ebff;}#sk-container-id-5 input.sk-hidden--visually {border: 0;clip: rect(1px 1px 1px 1px);clip: rect(1px, 1px, 1px, 1px);height: 1px;margin: -1px;overflow: hidden;padding: 0;position: absolute;width: 1px;}#sk-container-id-5 div.sk-estimator {font-family: monospace;background-color: #f0f8ff;border: 1px dotted black;border-radius: 0.25em;box-sizing: border-box;margin-bottom: 0.5em;}#sk-container-id-5 div.sk-estimator:hover {background-color: #d4ebff;}#sk-container-id-5 div.sk-parallel-item::after {content: \"\";width: 100%;border-bottom: 1px solid gray;flex-grow: 1;}#sk-container-id-5 div.sk-label:hover label.sk-toggleable__label {background-color: #d4ebff;}#sk-container-id-5 div.sk-serial::before {content: \"\";position: absolute;border-left: 1px solid gray;box-sizing: border-box;top: 0;bottom: 0;left: 50%;z-index: 0;}#sk-container-id-5 div.sk-serial {display: flex;flex-direction: column;align-items: center;background-color: white;padding-right: 0.2em;padding-left: 0.2em;position: relative;}#sk-container-id-5 div.sk-item {position: relative;z-index: 1;}#sk-container-id-5 div.sk-parallel {display: flex;align-items: stretch;justify-content: center;background-color: white;position: relative;}#sk-container-id-5 div.sk-item::before, #sk-container-id-5 div.sk-parallel-item::before {content: \"\";position: absolute;border-left: 1px solid gray;box-sizing: border-box;top: 0;bottom: 0;left: 50%;z-index: -1;}#sk-container-id-5 div.sk-parallel-item {display: flex;flex-direction: column;z-index: 1;position: relative;background-color: white;}#sk-container-id-5 div.sk-parallel-item:first-child::after {align-self: flex-end;width: 50%;}#sk-container-id-5 div.sk-parallel-item:last-child::after {align-self: flex-start;width: 50%;}#sk-container-id-5 div.sk-parallel-item:only-child::after {width: 0;}#sk-container-id-5 div.sk-dashed-wrapped {border: 1px dashed gray;margin: 0 0.4em 0.5em 0.4em;box-sizing: border-box;padding-bottom: 0.4em;background-color: white;}#sk-container-id-5 div.sk-label label {font-family: monospace;font-weight: bold;display: inline-block;line-height: 1.2em;}#sk-container-id-5 div.sk-label-container {text-align: center;}#sk-container-id-5 div.sk-container {/* jupyter's `normalize.less` sets `[hidden] { display: none; }` but bootstrap.min.css set `[hidden] { display: none !important; }` so we also need the `!important` here to be able to override the default hidden behavior on the sphinx rendered scikit-learn.org. See: https://github.com/scikit-learn/scikit-learn/issues/21755 */display: inline-block !important;position: relative;}#sk-container-id-5 div.sk-text-repr-fallback {display: none;}</style><div id=\"sk-container-id-5\" class=\"sk-top-container\"><div class=\"sk-text-repr-fallback\"><pre>StandardScaler()</pre><b>In a Jupyter environment, please rerun this cell to show the HTML representation or trust the notebook. <br />On GitHub, the HTML representation is unable to render, please try loading this page with nbviewer.org.</b></div><div class=\"sk-container\" hidden><div class=\"sk-item\"><div class=\"sk-estimator sk-toggleable\"><input class=\"sk-toggleable__control sk-hidden--visually\" id=\"sk-estimator-id-5\" type=\"checkbox\" checked><label for=\"sk-estimator-id-5\" class=\"sk-toggleable__label sk-toggleable__label-arrow\">StandardScaler</label><div class=\"sk-toggleable__content\"><pre>StandardScaler()</pre></div></div></div></div></div>"
      ],
      "text/plain": [
       "StandardScaler()"
      ]
     },
     "execution_count": 53,
     "metadata": {},
     "output_type": "execute_result"
    }
   ],
   "source": [
    "standardizer=StandardScaler()\n",
    "\n",
    "standardizer.fit(x_train)"
   ]
  },
  {
   "cell_type": "code",
   "execution_count": 54,
   "metadata": {},
   "outputs": [
    {
     "data": {
      "text/html": [
       "<div>\n",
       "<style scoped>\n",
       "    .dataframe tbody tr th:only-of-type {\n",
       "        vertical-align: middle;\n",
       "    }\n",
       "\n",
       "    .dataframe tbody tr th {\n",
       "        vertical-align: top;\n",
       "    }\n",
       "\n",
       "    .dataframe thead th {\n",
       "        text-align: right;\n",
       "    }\n",
       "</style>\n",
       "<table border=\"1\" class=\"dataframe\">\n",
       "  <thead>\n",
       "    <tr style=\"text-align: right;\">\n",
       "      <th></th>\n",
       "      <th>water_pollution</th>\n",
       "      <th>air_quality</th>\n",
       "      <th>population</th>\n",
       "    </tr>\n",
       "  </thead>\n",
       "  <tbody>\n",
       "    <tr>\n",
       "      <th>0</th>\n",
       "      <td>0.128302</td>\n",
       "      <td>-0.606805</td>\n",
       "      <td>0.952844</td>\n",
       "    </tr>\n",
       "    <tr>\n",
       "      <th>1</th>\n",
       "      <td>-0.666445</td>\n",
       "      <td>0.692768</td>\n",
       "      <td>-0.255893</td>\n",
       "    </tr>\n",
       "    <tr>\n",
       "      <th>2</th>\n",
       "      <td>-1.177507</td>\n",
       "      <td>0.996168</td>\n",
       "      <td>0.180543</td>\n",
       "    </tr>\n",
       "    <tr>\n",
       "      <th>3</th>\n",
       "      <td>0.484919</td>\n",
       "      <td>-0.233354</td>\n",
       "      <td>0.549680</td>\n",
       "    </tr>\n",
       "    <tr>\n",
       "      <th>4</th>\n",
       "      <td>-0.471244</td>\n",
       "      <td>-0.512191</td>\n",
       "      <td>-0.023968</td>\n",
       "    </tr>\n",
       "    <tr>\n",
       "      <th>...</th>\n",
       "      <td>...</td>\n",
       "      <td>...</td>\n",
       "      <td>...</td>\n",
       "    </tr>\n",
       "    <tr>\n",
       "      <th>107</th>\n",
       "      <td>0.307951</td>\n",
       "      <td>-0.810588</td>\n",
       "      <td>-0.277174</td>\n",
       "    </tr>\n",
       "    <tr>\n",
       "      <th>108</th>\n",
       "      <td>-1.134069</td>\n",
       "      <td>-1.109895</td>\n",
       "      <td>-0.268311</td>\n",
       "    </tr>\n",
       "    <tr>\n",
       "      <th>109</th>\n",
       "      <td>-1.908974</td>\n",
       "      <td>1.548385</td>\n",
       "      <td>-0.274431</td>\n",
       "    </tr>\n",
       "    <tr>\n",
       "      <th>110</th>\n",
       "      <td>0.000670</td>\n",
       "      <td>0.105072</td>\n",
       "      <td>0.146242</td>\n",
       "    </tr>\n",
       "    <tr>\n",
       "      <th>111</th>\n",
       "      <td>0.666177</td>\n",
       "      <td>-0.013195</td>\n",
       "      <td>-0.045225</td>\n",
       "    </tr>\n",
       "  </tbody>\n",
       "</table>\n",
       "<p>112 rows × 3 columns</p>\n",
       "</div>"
      ],
      "text/plain": [
       "     water_pollution  air_quality  population\n",
       "0           0.128302    -0.606805    0.952844\n",
       "1          -0.666445     0.692768   -0.255893\n",
       "2          -1.177507     0.996168    0.180543\n",
       "3           0.484919    -0.233354    0.549680\n",
       "4          -0.471244    -0.512191   -0.023968\n",
       "..               ...          ...         ...\n",
       "107         0.307951    -0.810588   -0.277174\n",
       "108        -1.134069    -1.109895   -0.268311\n",
       "109        -1.908974     1.548385   -0.274431\n",
       "110         0.000670     0.105072    0.146242\n",
       "111         0.666177    -0.013195   -0.045225\n",
       "\n",
       "[112 rows x 3 columns]"
      ]
     },
     "execution_count": 54,
     "metadata": {},
     "output_type": "execute_result"
    }
   ],
   "source": [
    "x_train_st = standardizer.transform(x_train)\n",
    "x_test_st= standardizer.transform(x_test)\n",
    "pd.DataFrame(x_train_st, columns=x_train.columns)"
   ]
  },
  {
   "cell_type": "code",
   "execution_count": 55,
   "metadata": {},
   "outputs": [
    {
     "data": {
      "text/html": [
       "<style>#sk-container-id-6 {color: black;background-color: white;}#sk-container-id-6 pre{padding: 0;}#sk-container-id-6 div.sk-toggleable {background-color: white;}#sk-container-id-6 label.sk-toggleable__label {cursor: pointer;display: block;width: 100%;margin-bottom: 0;padding: 0.3em;box-sizing: border-box;text-align: center;}#sk-container-id-6 label.sk-toggleable__label-arrow:before {content: \"▸\";float: left;margin-right: 0.25em;color: #696969;}#sk-container-id-6 label.sk-toggleable__label-arrow:hover:before {color: black;}#sk-container-id-6 div.sk-estimator:hover label.sk-toggleable__label-arrow:before {color: black;}#sk-container-id-6 div.sk-toggleable__content {max-height: 0;max-width: 0;overflow: hidden;text-align: left;background-color: #f0f8ff;}#sk-container-id-6 div.sk-toggleable__content pre {margin: 0.2em;color: black;border-radius: 0.25em;background-color: #f0f8ff;}#sk-container-id-6 input.sk-toggleable__control:checked~div.sk-toggleable__content {max-height: 200px;max-width: 100%;overflow: auto;}#sk-container-id-6 input.sk-toggleable__control:checked~label.sk-toggleable__label-arrow:before {content: \"▾\";}#sk-container-id-6 div.sk-estimator input.sk-toggleable__control:checked~label.sk-toggleable__label {background-color: #d4ebff;}#sk-container-id-6 div.sk-label input.sk-toggleable__control:checked~label.sk-toggleable__label {background-color: #d4ebff;}#sk-container-id-6 input.sk-hidden--visually {border: 0;clip: rect(1px 1px 1px 1px);clip: rect(1px, 1px, 1px, 1px);height: 1px;margin: -1px;overflow: hidden;padding: 0;position: absolute;width: 1px;}#sk-container-id-6 div.sk-estimator {font-family: monospace;background-color: #f0f8ff;border: 1px dotted black;border-radius: 0.25em;box-sizing: border-box;margin-bottom: 0.5em;}#sk-container-id-6 div.sk-estimator:hover {background-color: #d4ebff;}#sk-container-id-6 div.sk-parallel-item::after {content: \"\";width: 100%;border-bottom: 1px solid gray;flex-grow: 1;}#sk-container-id-6 div.sk-label:hover label.sk-toggleable__label {background-color: #d4ebff;}#sk-container-id-6 div.sk-serial::before {content: \"\";position: absolute;border-left: 1px solid gray;box-sizing: border-box;top: 0;bottom: 0;left: 50%;z-index: 0;}#sk-container-id-6 div.sk-serial {display: flex;flex-direction: column;align-items: center;background-color: white;padding-right: 0.2em;padding-left: 0.2em;position: relative;}#sk-container-id-6 div.sk-item {position: relative;z-index: 1;}#sk-container-id-6 div.sk-parallel {display: flex;align-items: stretch;justify-content: center;background-color: white;position: relative;}#sk-container-id-6 div.sk-item::before, #sk-container-id-6 div.sk-parallel-item::before {content: \"\";position: absolute;border-left: 1px solid gray;box-sizing: border-box;top: 0;bottom: 0;left: 50%;z-index: -1;}#sk-container-id-6 div.sk-parallel-item {display: flex;flex-direction: column;z-index: 1;position: relative;background-color: white;}#sk-container-id-6 div.sk-parallel-item:first-child::after {align-self: flex-end;width: 50%;}#sk-container-id-6 div.sk-parallel-item:last-child::after {align-self: flex-start;width: 50%;}#sk-container-id-6 div.sk-parallel-item:only-child::after {width: 0;}#sk-container-id-6 div.sk-dashed-wrapped {border: 1px dashed gray;margin: 0 0.4em 0.5em 0.4em;box-sizing: border-box;padding-bottom: 0.4em;background-color: white;}#sk-container-id-6 div.sk-label label {font-family: monospace;font-weight: bold;display: inline-block;line-height: 1.2em;}#sk-container-id-6 div.sk-label-container {text-align: center;}#sk-container-id-6 div.sk-container {/* jupyter's `normalize.less` sets `[hidden] { display: none; }` but bootstrap.min.css set `[hidden] { display: none !important; }` so we also need the `!important` here to be able to override the default hidden behavior on the sphinx rendered scikit-learn.org. See: https://github.com/scikit-learn/scikit-learn/issues/21755 */display: inline-block !important;position: relative;}#sk-container-id-6 div.sk-text-repr-fallback {display: none;}</style><div id=\"sk-container-id-6\" class=\"sk-top-container\"><div class=\"sk-text-repr-fallback\"><pre>KNeighborsRegressor(n_neighbors=10)</pre><b>In a Jupyter environment, please rerun this cell to show the HTML representation or trust the notebook. <br />On GitHub, the HTML representation is unable to render, please try loading this page with nbviewer.org.</b></div><div class=\"sk-container\" hidden><div class=\"sk-item\"><div class=\"sk-estimator sk-toggleable\"><input class=\"sk-toggleable__control sk-hidden--visually\" id=\"sk-estimator-id-6\" type=\"checkbox\" checked><label for=\"sk-estimator-id-6\" class=\"sk-toggleable__label sk-toggleable__label-arrow\">KNeighborsRegressor</label><div class=\"sk-toggleable__content\"><pre>KNeighborsRegressor(n_neighbors=10)</pre></div></div></div></div></div>"
      ],
      "text/plain": [
       "KNeighborsRegressor(n_neighbors=10)"
      ]
     },
     "execution_count": 55,
     "metadata": {},
     "output_type": "execute_result"
    }
   ],
   "source": [
    "knn=KNeighborsRegressor(n_neighbors=10)\n",
    "knn.fit(x_train_st,y_train)"
   ]
  },
  {
   "cell_type": "code",
   "execution_count": 56,
   "metadata": {},
   "outputs": [
    {
     "data": {
      "text/plain": [
       "-0.07050776157907412"
      ]
     },
     "execution_count": 56,
     "metadata": {},
     "output_type": "execute_result"
    }
   ],
   "source": [
    "knn.score(x_test_st,y_test)"
   ]
  },
  {
   "cell_type": "code",
   "execution_count": 57,
   "metadata": {},
   "outputs": [
    {
     "data": {
      "text/plain": [
       "19.00023750214536"
      ]
     },
     "execution_count": 57,
     "metadata": {},
     "output_type": "execute_result"
    }
   ],
   "source": [
    "pred=knn.predict(x_test_st)\n",
    "np.sqrt(mean_squared_error(y_test,pred))"
   ]
  },
  {
   "cell_type": "code",
   "execution_count": 58,
   "metadata": {},
   "outputs": [],
   "source": [
    "from sklearn.linear_model import LinearRegression\n",
    "from sklearn.tree import DecisionTreeRegressor\n",
    "\n",
    "from sklearn.preprocessing import MinMaxScaler, StandardScaler\n",
    "from sklearn.metrics import r2_score, mean_absolute_error, mean_squared_error\n"
   ]
  },
  {
   "cell_type": "code",
   "execution_count": 59,
   "metadata": {},
   "outputs": [],
   "source": [
    "features=dflife.drop(columns=[\"life_expectancy\"])\n",
    "target=dflife[\"life_expectancy\"]\n",
    "x_train,x_test,y_train,y_test=train_test_split(features, target, test_size=0.20,random_state=0)"
   ]
  },
  {
   "cell_type": "code",
   "execution_count": 60,
   "metadata": {},
   "outputs": [
    {
     "data": {
      "text/html": [
       "<div>\n",
       "<style scoped>\n",
       "    .dataframe tbody tr th:only-of-type {\n",
       "        vertical-align: middle;\n",
       "    }\n",
       "\n",
       "    .dataframe tbody tr th {\n",
       "        vertical-align: top;\n",
       "    }\n",
       "\n",
       "    .dataframe thead th {\n",
       "        text-align: right;\n",
       "    }\n",
       "</style>\n",
       "<table border=\"1\" class=\"dataframe\">\n",
       "  <thead>\n",
       "    <tr style=\"text-align: right;\">\n",
       "      <th></th>\n",
       "      <th>water_pollution</th>\n",
       "      <th>air_quality</th>\n",
       "      <th>population</th>\n",
       "    </tr>\n",
       "  </thead>\n",
       "  <tbody>\n",
       "    <tr>\n",
       "      <th>0</th>\n",
       "      <td>0.128302</td>\n",
       "      <td>-0.606805</td>\n",
       "      <td>0.952844</td>\n",
       "    </tr>\n",
       "    <tr>\n",
       "      <th>1</th>\n",
       "      <td>-0.666445</td>\n",
       "      <td>0.692768</td>\n",
       "      <td>-0.255893</td>\n",
       "    </tr>\n",
       "    <tr>\n",
       "      <th>2</th>\n",
       "      <td>-1.177507</td>\n",
       "      <td>0.996168</td>\n",
       "      <td>0.180543</td>\n",
       "    </tr>\n",
       "    <tr>\n",
       "      <th>3</th>\n",
       "      <td>0.484919</td>\n",
       "      <td>-0.233354</td>\n",
       "      <td>0.549680</td>\n",
       "    </tr>\n",
       "    <tr>\n",
       "      <th>4</th>\n",
       "      <td>-0.471244</td>\n",
       "      <td>-0.512191</td>\n",
       "      <td>-0.023968</td>\n",
       "    </tr>\n",
       "    <tr>\n",
       "      <th>...</th>\n",
       "      <td>...</td>\n",
       "      <td>...</td>\n",
       "      <td>...</td>\n",
       "    </tr>\n",
       "    <tr>\n",
       "      <th>107</th>\n",
       "      <td>0.307951</td>\n",
       "      <td>-0.810588</td>\n",
       "      <td>-0.277174</td>\n",
       "    </tr>\n",
       "    <tr>\n",
       "      <th>108</th>\n",
       "      <td>-1.134069</td>\n",
       "      <td>-1.109895</td>\n",
       "      <td>-0.268311</td>\n",
       "    </tr>\n",
       "    <tr>\n",
       "      <th>109</th>\n",
       "      <td>-1.908974</td>\n",
       "      <td>1.548385</td>\n",
       "      <td>-0.274431</td>\n",
       "    </tr>\n",
       "    <tr>\n",
       "      <th>110</th>\n",
       "      <td>0.000670</td>\n",
       "      <td>0.105072</td>\n",
       "      <td>0.146242</td>\n",
       "    </tr>\n",
       "    <tr>\n",
       "      <th>111</th>\n",
       "      <td>0.666177</td>\n",
       "      <td>-0.013195</td>\n",
       "      <td>-0.045225</td>\n",
       "    </tr>\n",
       "  </tbody>\n",
       "</table>\n",
       "<p>112 rows × 3 columns</p>\n",
       "</div>"
      ],
      "text/plain": [
       "     water_pollution  air_quality  population\n",
       "0           0.128302    -0.606805    0.952844\n",
       "1          -0.666445     0.692768   -0.255893\n",
       "2          -1.177507     0.996168    0.180543\n",
       "3           0.484919    -0.233354    0.549680\n",
       "4          -0.471244    -0.512191   -0.023968\n",
       "..               ...          ...         ...\n",
       "107         0.307951    -0.810588   -0.277174\n",
       "108        -1.134069    -1.109895   -0.268311\n",
       "109        -1.908974     1.548385   -0.274431\n",
       "110         0.000670     0.105072    0.146242\n",
       "111         0.666177    -0.013195   -0.045225\n",
       "\n",
       "[112 rows x 3 columns]"
      ]
     },
     "execution_count": 60,
     "metadata": {},
     "output_type": "execute_result"
    }
   ],
   "source": [
    "\n",
    "standardizer=StandardScaler()\n",
    "standardizer.fit(x_train)\n",
    "x_train_st = standardizer.transform(x_train)\n",
    "x_test_st= standardizer.transform(x_test)\n",
    "pd.DataFrame(x_train_st, columns=x_train.columns)\n"
   ]
  },
  {
   "cell_type": "code",
   "execution_count": 61,
   "metadata": {},
   "outputs": [],
   "source": [
    "x_train_st=pd.DataFrame(x_train_st, columns=x_train.columns)\n",
    "x_test_st=pd.DataFrame(x_test_st, columns=x_test.columns)\n"
   ]
  },
  {
   "cell_type": "code",
   "execution_count": 62,
   "metadata": {},
   "outputs": [
    {
     "data": {
      "text/plain": [
       "8.133805838891814"
      ]
     },
     "execution_count": 62,
     "metadata": {},
     "output_type": "execute_result"
    }
   ],
   "source": [
    "LR = LinearRegression()\n",
    "LR.fit(x_train_st,y_train)\n",
    "pred=LR.predict(x_test_st)\n",
    "np.sqrt(mean_squared_error(y_test,pred))\n"
   ]
  },
  {
   "cell_type": "code",
   "execution_count": 63,
   "metadata": {},
   "outputs": [
    {
     "data": {
      "text/plain": [
       "-0.02171410624219905"
      ]
     },
     "execution_count": 63,
     "metadata": {},
     "output_type": "execute_result"
    }
   ],
   "source": [
    "LR.score(x_test_st, y_test)"
   ]
  },
  {
   "cell_type": "code",
   "execution_count": 64,
   "metadata": {},
   "outputs": [
    {
     "data": {
      "text/plain": [
       "{'water_pollution': -4.632779182462854,\n",
       " 'air_quality': 0.7396364269653369,\n",
       " 'population': -0.35187957305812617}"
      ]
     },
     "execution_count": 64,
     "metadata": {},
     "output_type": "execute_result"
    }
   ],
   "source": [
    "LR.coef_\n",
    "{feature:coef for feature,coef in zip(features.columns,LR.coef_)}"
   ]
  },
  {
   "cell_type": "code",
   "execution_count": 65,
   "metadata": {},
   "outputs": [],
   "source": [
    "features=dfmort.drop(columns=[\"adult_mortality\"])\n",
    "target=dfmort[\"adult_mortality\"]\n",
    "x_train,x_test,y_train,y_test=train_test_split(features, target, test_size=0.20,random_state=0)"
   ]
  },
  {
   "cell_type": "code",
   "execution_count": 66,
   "metadata": {},
   "outputs": [
    {
     "data": {
      "text/html": [
       "<div>\n",
       "<style scoped>\n",
       "    .dataframe tbody tr th:only-of-type {\n",
       "        vertical-align: middle;\n",
       "    }\n",
       "\n",
       "    .dataframe tbody tr th {\n",
       "        vertical-align: top;\n",
       "    }\n",
       "\n",
       "    .dataframe thead th {\n",
       "        text-align: right;\n",
       "    }\n",
       "</style>\n",
       "<table border=\"1\" class=\"dataframe\">\n",
       "  <thead>\n",
       "    <tr style=\"text-align: right;\">\n",
       "      <th></th>\n",
       "      <th>water_pollution</th>\n",
       "      <th>air_quality</th>\n",
       "      <th>population</th>\n",
       "    </tr>\n",
       "  </thead>\n",
       "  <tbody>\n",
       "    <tr>\n",
       "      <th>0</th>\n",
       "      <td>0.128302</td>\n",
       "      <td>-0.606805</td>\n",
       "      <td>0.952844</td>\n",
       "    </tr>\n",
       "    <tr>\n",
       "      <th>1</th>\n",
       "      <td>-0.666445</td>\n",
       "      <td>0.692768</td>\n",
       "      <td>-0.255893</td>\n",
       "    </tr>\n",
       "    <tr>\n",
       "      <th>2</th>\n",
       "      <td>-1.177507</td>\n",
       "      <td>0.996168</td>\n",
       "      <td>0.180543</td>\n",
       "    </tr>\n",
       "    <tr>\n",
       "      <th>3</th>\n",
       "      <td>0.484919</td>\n",
       "      <td>-0.233354</td>\n",
       "      <td>0.549680</td>\n",
       "    </tr>\n",
       "    <tr>\n",
       "      <th>4</th>\n",
       "      <td>-0.471244</td>\n",
       "      <td>-0.512191</td>\n",
       "      <td>-0.023968</td>\n",
       "    </tr>\n",
       "    <tr>\n",
       "      <th>...</th>\n",
       "      <td>...</td>\n",
       "      <td>...</td>\n",
       "      <td>...</td>\n",
       "    </tr>\n",
       "    <tr>\n",
       "      <th>107</th>\n",
       "      <td>0.307951</td>\n",
       "      <td>-0.810588</td>\n",
       "      <td>-0.277174</td>\n",
       "    </tr>\n",
       "    <tr>\n",
       "      <th>108</th>\n",
       "      <td>-1.134069</td>\n",
       "      <td>-1.109895</td>\n",
       "      <td>-0.268311</td>\n",
       "    </tr>\n",
       "    <tr>\n",
       "      <th>109</th>\n",
       "      <td>-1.908974</td>\n",
       "      <td>1.548385</td>\n",
       "      <td>-0.274431</td>\n",
       "    </tr>\n",
       "    <tr>\n",
       "      <th>110</th>\n",
       "      <td>0.000670</td>\n",
       "      <td>0.105072</td>\n",
       "      <td>0.146242</td>\n",
       "    </tr>\n",
       "    <tr>\n",
       "      <th>111</th>\n",
       "      <td>0.666177</td>\n",
       "      <td>-0.013195</td>\n",
       "      <td>-0.045225</td>\n",
       "    </tr>\n",
       "  </tbody>\n",
       "</table>\n",
       "<p>112 rows × 3 columns</p>\n",
       "</div>"
      ],
      "text/plain": [
       "     water_pollution  air_quality  population\n",
       "0           0.128302    -0.606805    0.952844\n",
       "1          -0.666445     0.692768   -0.255893\n",
       "2          -1.177507     0.996168    0.180543\n",
       "3           0.484919    -0.233354    0.549680\n",
       "4          -0.471244    -0.512191   -0.023968\n",
       "..               ...          ...         ...\n",
       "107         0.307951    -0.810588   -0.277174\n",
       "108        -1.134069    -1.109895   -0.268311\n",
       "109        -1.908974     1.548385   -0.274431\n",
       "110         0.000670     0.105072    0.146242\n",
       "111         0.666177    -0.013195   -0.045225\n",
       "\n",
       "[112 rows x 3 columns]"
      ]
     },
     "execution_count": 66,
     "metadata": {},
     "output_type": "execute_result"
    }
   ],
   "source": [
    "standardizer=StandardScaler()\n",
    "standardizer.fit(x_train)\n",
    "x_train_st = standardizer.transform(x_train)\n",
    "x_test_st= standardizer.transform(x_test)\n",
    "pd.DataFrame(x_train_st, columns=x_train.columns)"
   ]
  },
  {
   "cell_type": "code",
   "execution_count": 67,
   "metadata": {},
   "outputs": [],
   "source": [
    "x_train_st=pd.DataFrame(x_train_st, columns=x_train.columns)\n",
    "x_test_st=pd.DataFrame(x_test_st, columns=x_test.columns)"
   ]
  },
  {
   "cell_type": "code",
   "execution_count": 68,
   "metadata": {},
   "outputs": [
    {
     "data": {
      "text/plain": [
       "81.65437543067644"
      ]
     },
     "execution_count": 68,
     "metadata": {},
     "output_type": "execute_result"
    }
   ],
   "source": [
    "LR = LinearRegression()\n",
    "LR.fit(x_train_st,y_train)\n",
    "pred=LR.predict(x_test_st)\n",
    "np.sqrt(mean_squared_error(y_test,pred))"
   ]
  },
  {
   "cell_type": "code",
   "execution_count": 69,
   "metadata": {},
   "outputs": [
    {
     "data": {
      "text/plain": [
       "-0.003066119313047677"
      ]
     },
     "execution_count": 69,
     "metadata": {},
     "output_type": "execute_result"
    }
   ],
   "source": [
    "LR.score(x_test_st, y_test)"
   ]
  },
  {
   "cell_type": "code",
   "execution_count": 70,
   "metadata": {},
   "outputs": [
    {
     "data": {
      "text/plain": [
       "{'water_pollution': 49.70351901217391,\n",
       " 'air_quality': 13.270807278589427,\n",
       " 'population': -1.593318433223584}"
      ]
     },
     "execution_count": 70,
     "metadata": {},
     "output_type": "execute_result"
    }
   ],
   "source": [
    "LR.coef_\n",
    "{feature:coef for feature,coef in zip(features.columns,LR.coef_)}"
   ]
  },
  {
   "cell_type": "code",
   "execution_count": 71,
   "metadata": {},
   "outputs": [],
   "source": [
    "features=dfhep.drop(columns=[\"hepatitis_b\"])\n",
    "target=dfhep[\"hepatitis_b\"]\n",
    "x_train,x_test,y_train,y_test=train_test_split(features, target, test_size=0.20,random_state=0)"
   ]
  },
  {
   "cell_type": "code",
   "execution_count": 72,
   "metadata": {},
   "outputs": [
    {
     "data": {
      "text/html": [
       "<div>\n",
       "<style scoped>\n",
       "    .dataframe tbody tr th:only-of-type {\n",
       "        vertical-align: middle;\n",
       "    }\n",
       "\n",
       "    .dataframe tbody tr th {\n",
       "        vertical-align: top;\n",
       "    }\n",
       "\n",
       "    .dataframe thead th {\n",
       "        text-align: right;\n",
       "    }\n",
       "</style>\n",
       "<table border=\"1\" class=\"dataframe\">\n",
       "  <thead>\n",
       "    <tr style=\"text-align: right;\">\n",
       "      <th></th>\n",
       "      <th>water_pollution</th>\n",
       "      <th>air_quality</th>\n",
       "      <th>population</th>\n",
       "    </tr>\n",
       "  </thead>\n",
       "  <tbody>\n",
       "    <tr>\n",
       "      <th>0</th>\n",
       "      <td>0.128302</td>\n",
       "      <td>-0.606805</td>\n",
       "      <td>0.952844</td>\n",
       "    </tr>\n",
       "    <tr>\n",
       "      <th>1</th>\n",
       "      <td>-0.666445</td>\n",
       "      <td>0.692768</td>\n",
       "      <td>-0.255893</td>\n",
       "    </tr>\n",
       "    <tr>\n",
       "      <th>2</th>\n",
       "      <td>-1.177507</td>\n",
       "      <td>0.996168</td>\n",
       "      <td>0.180543</td>\n",
       "    </tr>\n",
       "    <tr>\n",
       "      <th>3</th>\n",
       "      <td>0.484919</td>\n",
       "      <td>-0.233354</td>\n",
       "      <td>0.549680</td>\n",
       "    </tr>\n",
       "    <tr>\n",
       "      <th>4</th>\n",
       "      <td>-0.471244</td>\n",
       "      <td>-0.512191</td>\n",
       "      <td>-0.023968</td>\n",
       "    </tr>\n",
       "    <tr>\n",
       "      <th>...</th>\n",
       "      <td>...</td>\n",
       "      <td>...</td>\n",
       "      <td>...</td>\n",
       "    </tr>\n",
       "    <tr>\n",
       "      <th>107</th>\n",
       "      <td>0.307951</td>\n",
       "      <td>-0.810588</td>\n",
       "      <td>-0.277174</td>\n",
       "    </tr>\n",
       "    <tr>\n",
       "      <th>108</th>\n",
       "      <td>-1.134069</td>\n",
       "      <td>-1.109895</td>\n",
       "      <td>-0.268311</td>\n",
       "    </tr>\n",
       "    <tr>\n",
       "      <th>109</th>\n",
       "      <td>-1.908974</td>\n",
       "      <td>1.548385</td>\n",
       "      <td>-0.274431</td>\n",
       "    </tr>\n",
       "    <tr>\n",
       "      <th>110</th>\n",
       "      <td>0.000670</td>\n",
       "      <td>0.105072</td>\n",
       "      <td>0.146242</td>\n",
       "    </tr>\n",
       "    <tr>\n",
       "      <th>111</th>\n",
       "      <td>0.666177</td>\n",
       "      <td>-0.013195</td>\n",
       "      <td>-0.045225</td>\n",
       "    </tr>\n",
       "  </tbody>\n",
       "</table>\n",
       "<p>112 rows × 3 columns</p>\n",
       "</div>"
      ],
      "text/plain": [
       "     water_pollution  air_quality  population\n",
       "0           0.128302    -0.606805    0.952844\n",
       "1          -0.666445     0.692768   -0.255893\n",
       "2          -1.177507     0.996168    0.180543\n",
       "3           0.484919    -0.233354    0.549680\n",
       "4          -0.471244    -0.512191   -0.023968\n",
       "..               ...          ...         ...\n",
       "107         0.307951    -0.810588   -0.277174\n",
       "108        -1.134069    -1.109895   -0.268311\n",
       "109        -1.908974     1.548385   -0.274431\n",
       "110         0.000670     0.105072    0.146242\n",
       "111         0.666177    -0.013195   -0.045225\n",
       "\n",
       "[112 rows x 3 columns]"
      ]
     },
     "execution_count": 72,
     "metadata": {},
     "output_type": "execute_result"
    }
   ],
   "source": [
    "standardizer=StandardScaler()\n",
    "standardizer.fit(x_train)\n",
    "x_train_st = standardizer.transform(x_train)\n",
    "x_test_st= standardizer.transform(x_test)\n",
    "pd.DataFrame(x_train_st, columns=x_train.columns)"
   ]
  },
  {
   "cell_type": "code",
   "execution_count": 73,
   "metadata": {},
   "outputs": [],
   "source": [
    "x_train_st=pd.DataFrame(x_train_st, columns=x_train.columns)\n",
    "x_test_st=pd.DataFrame(x_test_st, columns=x_test.columns)"
   ]
  },
  {
   "cell_type": "code",
   "execution_count": 74,
   "metadata": {},
   "outputs": [
    {
     "data": {
      "text/plain": [
       "19.869007551229892"
      ]
     },
     "execution_count": 74,
     "metadata": {},
     "output_type": "execute_result"
    }
   ],
   "source": [
    "LR = LinearRegression()\n",
    "LR.fit(x_train_st,y_train)\n",
    "pred=LR.predict(x_test_st)\n",
    "np.sqrt(mean_squared_error(y_test,pred))"
   ]
  },
  {
   "cell_type": "code",
   "execution_count": 75,
   "metadata": {},
   "outputs": [
    {
     "data": {
      "text/plain": [
       "-0.17064202483950908"
      ]
     },
     "execution_count": 75,
     "metadata": {},
     "output_type": "execute_result"
    }
   ],
   "source": [
    "LR.score(x_test_st, y_test)"
   ]
  },
  {
   "cell_type": "code",
   "execution_count": 76,
   "metadata": {},
   "outputs": [
    {
     "data": {
      "text/plain": [
       "{'water_pollution': -3.7260124522577813,\n",
       " 'air_quality': 1.8595407509737172,\n",
       " 'population': -4.352714786650232}"
      ]
     },
     "execution_count": 76,
     "metadata": {},
     "output_type": "execute_result"
    }
   ],
   "source": [
    "LR.coef_\n",
    "{feature:coef for feature,coef in zip(features.columns,LR.coef_)}\n"
   ]
  },
  {
   "cell_type": "code",
   "execution_count": 77,
   "metadata": {},
   "outputs": [],
   "source": [
    "from sklearn.tree import DecisionTreeRegressor\n",
    "\n",
    "from sklearn.preprocessing import MinMaxScaler, StandardScaler\n",
    "from sklearn.metrics import r2_score, mean_absolute_error, mean_squared_error\n"
   ]
  },
  {
   "cell_type": "code",
   "execution_count": 78,
   "metadata": {},
   "outputs": [],
   "source": [
    "tree=DecisionTreeRegressor(max_depth=10)"
   ]
  },
  {
   "cell_type": "code",
   "execution_count": 79,
   "metadata": {},
   "outputs": [],
   "source": [
    "features=dflife.drop(columns=[\"life_expectancy\"])\n",
    "target=dflife[\"life_expectancy\"]\n",
    "x_train,x_test,y_train,y_test=train_test_split(features, target, test_size=0.20,random_state=0)"
   ]
  },
  {
   "cell_type": "code",
   "execution_count": 80,
   "metadata": {},
   "outputs": [
    {
     "data": {
      "text/html": [
       "<div>\n",
       "<style scoped>\n",
       "    .dataframe tbody tr th:only-of-type {\n",
       "        vertical-align: middle;\n",
       "    }\n",
       "\n",
       "    .dataframe tbody tr th {\n",
       "        vertical-align: top;\n",
       "    }\n",
       "\n",
       "    .dataframe thead th {\n",
       "        text-align: right;\n",
       "    }\n",
       "</style>\n",
       "<table border=\"1\" class=\"dataframe\">\n",
       "  <thead>\n",
       "    <tr style=\"text-align: right;\">\n",
       "      <th></th>\n",
       "      <th>water_pollution</th>\n",
       "      <th>air_quality</th>\n",
       "      <th>population</th>\n",
       "    </tr>\n",
       "  </thead>\n",
       "  <tbody>\n",
       "    <tr>\n",
       "      <th>0</th>\n",
       "      <td>0.128302</td>\n",
       "      <td>-0.606805</td>\n",
       "      <td>0.952844</td>\n",
       "    </tr>\n",
       "    <tr>\n",
       "      <th>1</th>\n",
       "      <td>-0.666445</td>\n",
       "      <td>0.692768</td>\n",
       "      <td>-0.255893</td>\n",
       "    </tr>\n",
       "    <tr>\n",
       "      <th>2</th>\n",
       "      <td>-1.177507</td>\n",
       "      <td>0.996168</td>\n",
       "      <td>0.180543</td>\n",
       "    </tr>\n",
       "    <tr>\n",
       "      <th>3</th>\n",
       "      <td>0.484919</td>\n",
       "      <td>-0.233354</td>\n",
       "      <td>0.549680</td>\n",
       "    </tr>\n",
       "    <tr>\n",
       "      <th>4</th>\n",
       "      <td>-0.471244</td>\n",
       "      <td>-0.512191</td>\n",
       "      <td>-0.023968</td>\n",
       "    </tr>\n",
       "    <tr>\n",
       "      <th>...</th>\n",
       "      <td>...</td>\n",
       "      <td>...</td>\n",
       "      <td>...</td>\n",
       "    </tr>\n",
       "    <tr>\n",
       "      <th>107</th>\n",
       "      <td>0.307951</td>\n",
       "      <td>-0.810588</td>\n",
       "      <td>-0.277174</td>\n",
       "    </tr>\n",
       "    <tr>\n",
       "      <th>108</th>\n",
       "      <td>-1.134069</td>\n",
       "      <td>-1.109895</td>\n",
       "      <td>-0.268311</td>\n",
       "    </tr>\n",
       "    <tr>\n",
       "      <th>109</th>\n",
       "      <td>-1.908974</td>\n",
       "      <td>1.548385</td>\n",
       "      <td>-0.274431</td>\n",
       "    </tr>\n",
       "    <tr>\n",
       "      <th>110</th>\n",
       "      <td>0.000670</td>\n",
       "      <td>0.105072</td>\n",
       "      <td>0.146242</td>\n",
       "    </tr>\n",
       "    <tr>\n",
       "      <th>111</th>\n",
       "      <td>0.666177</td>\n",
       "      <td>-0.013195</td>\n",
       "      <td>-0.045225</td>\n",
       "    </tr>\n",
       "  </tbody>\n",
       "</table>\n",
       "<p>112 rows × 3 columns</p>\n",
       "</div>"
      ],
      "text/plain": [
       "     water_pollution  air_quality  population\n",
       "0           0.128302    -0.606805    0.952844\n",
       "1          -0.666445     0.692768   -0.255893\n",
       "2          -1.177507     0.996168    0.180543\n",
       "3           0.484919    -0.233354    0.549680\n",
       "4          -0.471244    -0.512191   -0.023968\n",
       "..               ...          ...         ...\n",
       "107         0.307951    -0.810588   -0.277174\n",
       "108        -1.134069    -1.109895   -0.268311\n",
       "109        -1.908974     1.548385   -0.274431\n",
       "110         0.000670     0.105072    0.146242\n",
       "111         0.666177    -0.013195   -0.045225\n",
       "\n",
       "[112 rows x 3 columns]"
      ]
     },
     "execution_count": 80,
     "metadata": {},
     "output_type": "execute_result"
    }
   ],
   "source": [
    "standardizer=StandardScaler()\n",
    "standardizer.fit(x_train)\n",
    "x_train_st = standardizer.transform(x_train)\n",
    "x_test_st= standardizer.transform(x_test)\n",
    "pd.DataFrame(x_train_st, columns=x_train.columns)\n"
   ]
  },
  {
   "cell_type": "code",
   "execution_count": 81,
   "metadata": {},
   "outputs": [
    {
     "data": {
      "text/html": [
       "<style>#sk-container-id-7 {color: black;background-color: white;}#sk-container-id-7 pre{padding: 0;}#sk-container-id-7 div.sk-toggleable {background-color: white;}#sk-container-id-7 label.sk-toggleable__label {cursor: pointer;display: block;width: 100%;margin-bottom: 0;padding: 0.3em;box-sizing: border-box;text-align: center;}#sk-container-id-7 label.sk-toggleable__label-arrow:before {content: \"▸\";float: left;margin-right: 0.25em;color: #696969;}#sk-container-id-7 label.sk-toggleable__label-arrow:hover:before {color: black;}#sk-container-id-7 div.sk-estimator:hover label.sk-toggleable__label-arrow:before {color: black;}#sk-container-id-7 div.sk-toggleable__content {max-height: 0;max-width: 0;overflow: hidden;text-align: left;background-color: #f0f8ff;}#sk-container-id-7 div.sk-toggleable__content pre {margin: 0.2em;color: black;border-radius: 0.25em;background-color: #f0f8ff;}#sk-container-id-7 input.sk-toggleable__control:checked~div.sk-toggleable__content {max-height: 200px;max-width: 100%;overflow: auto;}#sk-container-id-7 input.sk-toggleable__control:checked~label.sk-toggleable__label-arrow:before {content: \"▾\";}#sk-container-id-7 div.sk-estimator input.sk-toggleable__control:checked~label.sk-toggleable__label {background-color: #d4ebff;}#sk-container-id-7 div.sk-label input.sk-toggleable__control:checked~label.sk-toggleable__label {background-color: #d4ebff;}#sk-container-id-7 input.sk-hidden--visually {border: 0;clip: rect(1px 1px 1px 1px);clip: rect(1px, 1px, 1px, 1px);height: 1px;margin: -1px;overflow: hidden;padding: 0;position: absolute;width: 1px;}#sk-container-id-7 div.sk-estimator {font-family: monospace;background-color: #f0f8ff;border: 1px dotted black;border-radius: 0.25em;box-sizing: border-box;margin-bottom: 0.5em;}#sk-container-id-7 div.sk-estimator:hover {background-color: #d4ebff;}#sk-container-id-7 div.sk-parallel-item::after {content: \"\";width: 100%;border-bottom: 1px solid gray;flex-grow: 1;}#sk-container-id-7 div.sk-label:hover label.sk-toggleable__label {background-color: #d4ebff;}#sk-container-id-7 div.sk-serial::before {content: \"\";position: absolute;border-left: 1px solid gray;box-sizing: border-box;top: 0;bottom: 0;left: 50%;z-index: 0;}#sk-container-id-7 div.sk-serial {display: flex;flex-direction: column;align-items: center;background-color: white;padding-right: 0.2em;padding-left: 0.2em;position: relative;}#sk-container-id-7 div.sk-item {position: relative;z-index: 1;}#sk-container-id-7 div.sk-parallel {display: flex;align-items: stretch;justify-content: center;background-color: white;position: relative;}#sk-container-id-7 div.sk-item::before, #sk-container-id-7 div.sk-parallel-item::before {content: \"\";position: absolute;border-left: 1px solid gray;box-sizing: border-box;top: 0;bottom: 0;left: 50%;z-index: -1;}#sk-container-id-7 div.sk-parallel-item {display: flex;flex-direction: column;z-index: 1;position: relative;background-color: white;}#sk-container-id-7 div.sk-parallel-item:first-child::after {align-self: flex-end;width: 50%;}#sk-container-id-7 div.sk-parallel-item:last-child::after {align-self: flex-start;width: 50%;}#sk-container-id-7 div.sk-parallel-item:only-child::after {width: 0;}#sk-container-id-7 div.sk-dashed-wrapped {border: 1px dashed gray;margin: 0 0.4em 0.5em 0.4em;box-sizing: border-box;padding-bottom: 0.4em;background-color: white;}#sk-container-id-7 div.sk-label label {font-family: monospace;font-weight: bold;display: inline-block;line-height: 1.2em;}#sk-container-id-7 div.sk-label-container {text-align: center;}#sk-container-id-7 div.sk-container {/* jupyter's `normalize.less` sets `[hidden] { display: none; }` but bootstrap.min.css set `[hidden] { display: none !important; }` so we also need the `!important` here to be able to override the default hidden behavior on the sphinx rendered scikit-learn.org. See: https://github.com/scikit-learn/scikit-learn/issues/21755 */display: inline-block !important;position: relative;}#sk-container-id-7 div.sk-text-repr-fallback {display: none;}</style><div id=\"sk-container-id-7\" class=\"sk-top-container\"><div class=\"sk-text-repr-fallback\"><pre>DecisionTreeRegressor(max_depth=10)</pre><b>In a Jupyter environment, please rerun this cell to show the HTML representation or trust the notebook. <br />On GitHub, the HTML representation is unable to render, please try loading this page with nbviewer.org.</b></div><div class=\"sk-container\" hidden><div class=\"sk-item\"><div class=\"sk-estimator sk-toggleable\"><input class=\"sk-toggleable__control sk-hidden--visually\" id=\"sk-estimator-id-7\" type=\"checkbox\" checked><label for=\"sk-estimator-id-7\" class=\"sk-toggleable__label sk-toggleable__label-arrow\">DecisionTreeRegressor</label><div class=\"sk-toggleable__content\"><pre>DecisionTreeRegressor(max_depth=10)</pre></div></div></div></div></div>"
      ],
      "text/plain": [
       "DecisionTreeRegressor(max_depth=10)"
      ]
     },
     "execution_count": 81,
     "metadata": {},
     "output_type": "execute_result"
    }
   ],
   "source": [
    "tree.fit(x_train_st,y_train)"
   ]
  },
  {
   "cell_type": "code",
   "execution_count": 82,
   "metadata": {},
   "outputs": [
    {
     "data": {
      "text/plain": [
       "10.369867848502327"
      ]
     },
     "execution_count": 82,
     "metadata": {},
     "output_type": "execute_result"
    }
   ],
   "source": [
    "pred=tree.predict(x_test_st)\n",
    "np.sqrt(mean_squared_error(y_test,pred))\n"
   ]
  },
  {
   "cell_type": "code",
   "execution_count": 84,
   "metadata": {},
   "outputs": [
    {
     "data": {
      "text/plain": [
       "-0.660688700965828"
      ]
     },
     "execution_count": 84,
     "metadata": {},
     "output_type": "execute_result"
    }
   ],
   "source": [
    "tree.score(x_test_st, y_test)"
   ]
  },
  {
   "cell_type": "code",
   "execution_count": 85,
   "metadata": {},
   "outputs": [],
   "source": [
    "features=dfmort.drop(columns=[\"adult_mortality\"])\n",
    "target=dfmort[\"adult_mortality\"]\n",
    "x_train,x_test,y_train,y_test=train_test_split(features, target, test_size=0.20,random_state=0)"
   ]
  },
  {
   "cell_type": "code",
   "execution_count": 86,
   "metadata": {},
   "outputs": [
    {
     "data": {
      "text/html": [
       "<div>\n",
       "<style scoped>\n",
       "    .dataframe tbody tr th:only-of-type {\n",
       "        vertical-align: middle;\n",
       "    }\n",
       "\n",
       "    .dataframe tbody tr th {\n",
       "        vertical-align: top;\n",
       "    }\n",
       "\n",
       "    .dataframe thead th {\n",
       "        text-align: right;\n",
       "    }\n",
       "</style>\n",
       "<table border=\"1\" class=\"dataframe\">\n",
       "  <thead>\n",
       "    <tr style=\"text-align: right;\">\n",
       "      <th></th>\n",
       "      <th>water_pollution</th>\n",
       "      <th>air_quality</th>\n",
       "      <th>population</th>\n",
       "    </tr>\n",
       "  </thead>\n",
       "  <tbody>\n",
       "    <tr>\n",
       "      <th>0</th>\n",
       "      <td>0.128302</td>\n",
       "      <td>-0.606805</td>\n",
       "      <td>0.952844</td>\n",
       "    </tr>\n",
       "    <tr>\n",
       "      <th>1</th>\n",
       "      <td>-0.666445</td>\n",
       "      <td>0.692768</td>\n",
       "      <td>-0.255893</td>\n",
       "    </tr>\n",
       "    <tr>\n",
       "      <th>2</th>\n",
       "      <td>-1.177507</td>\n",
       "      <td>0.996168</td>\n",
       "      <td>0.180543</td>\n",
       "    </tr>\n",
       "    <tr>\n",
       "      <th>3</th>\n",
       "      <td>0.484919</td>\n",
       "      <td>-0.233354</td>\n",
       "      <td>0.549680</td>\n",
       "    </tr>\n",
       "    <tr>\n",
       "      <th>4</th>\n",
       "      <td>-0.471244</td>\n",
       "      <td>-0.512191</td>\n",
       "      <td>-0.023968</td>\n",
       "    </tr>\n",
       "    <tr>\n",
       "      <th>...</th>\n",
       "      <td>...</td>\n",
       "      <td>...</td>\n",
       "      <td>...</td>\n",
       "    </tr>\n",
       "    <tr>\n",
       "      <th>107</th>\n",
       "      <td>0.307951</td>\n",
       "      <td>-0.810588</td>\n",
       "      <td>-0.277174</td>\n",
       "    </tr>\n",
       "    <tr>\n",
       "      <th>108</th>\n",
       "      <td>-1.134069</td>\n",
       "      <td>-1.109895</td>\n",
       "      <td>-0.268311</td>\n",
       "    </tr>\n",
       "    <tr>\n",
       "      <th>109</th>\n",
       "      <td>-1.908974</td>\n",
       "      <td>1.548385</td>\n",
       "      <td>-0.274431</td>\n",
       "    </tr>\n",
       "    <tr>\n",
       "      <th>110</th>\n",
       "      <td>0.000670</td>\n",
       "      <td>0.105072</td>\n",
       "      <td>0.146242</td>\n",
       "    </tr>\n",
       "    <tr>\n",
       "      <th>111</th>\n",
       "      <td>0.666177</td>\n",
       "      <td>-0.013195</td>\n",
       "      <td>-0.045225</td>\n",
       "    </tr>\n",
       "  </tbody>\n",
       "</table>\n",
       "<p>112 rows × 3 columns</p>\n",
       "</div>"
      ],
      "text/plain": [
       "     water_pollution  air_quality  population\n",
       "0           0.128302    -0.606805    0.952844\n",
       "1          -0.666445     0.692768   -0.255893\n",
       "2          -1.177507     0.996168    0.180543\n",
       "3           0.484919    -0.233354    0.549680\n",
       "4          -0.471244    -0.512191   -0.023968\n",
       "..               ...          ...         ...\n",
       "107         0.307951    -0.810588   -0.277174\n",
       "108        -1.134069    -1.109895   -0.268311\n",
       "109        -1.908974     1.548385   -0.274431\n",
       "110         0.000670     0.105072    0.146242\n",
       "111         0.666177    -0.013195   -0.045225\n",
       "\n",
       "[112 rows x 3 columns]"
      ]
     },
     "execution_count": 86,
     "metadata": {},
     "output_type": "execute_result"
    }
   ],
   "source": [
    "standardizer=StandardScaler()\n",
    "standardizer.fit(x_train)\n",
    "x_train_st = standardizer.transform(x_train)\n",
    "x_test_st= standardizer.transform(x_test)\n",
    "pd.DataFrame(x_train_st, columns=x_train.columns)"
   ]
  },
  {
   "cell_type": "code",
   "execution_count": 87,
   "metadata": {},
   "outputs": [
    {
     "data": {
      "text/html": [
       "<style>#sk-container-id-8 {color: black;background-color: white;}#sk-container-id-8 pre{padding: 0;}#sk-container-id-8 div.sk-toggleable {background-color: white;}#sk-container-id-8 label.sk-toggleable__label {cursor: pointer;display: block;width: 100%;margin-bottom: 0;padding: 0.3em;box-sizing: border-box;text-align: center;}#sk-container-id-8 label.sk-toggleable__label-arrow:before {content: \"▸\";float: left;margin-right: 0.25em;color: #696969;}#sk-container-id-8 label.sk-toggleable__label-arrow:hover:before {color: black;}#sk-container-id-8 div.sk-estimator:hover label.sk-toggleable__label-arrow:before {color: black;}#sk-container-id-8 div.sk-toggleable__content {max-height: 0;max-width: 0;overflow: hidden;text-align: left;background-color: #f0f8ff;}#sk-container-id-8 div.sk-toggleable__content pre {margin: 0.2em;color: black;border-radius: 0.25em;background-color: #f0f8ff;}#sk-container-id-8 input.sk-toggleable__control:checked~div.sk-toggleable__content {max-height: 200px;max-width: 100%;overflow: auto;}#sk-container-id-8 input.sk-toggleable__control:checked~label.sk-toggleable__label-arrow:before {content: \"▾\";}#sk-container-id-8 div.sk-estimator input.sk-toggleable__control:checked~label.sk-toggleable__label {background-color: #d4ebff;}#sk-container-id-8 div.sk-label input.sk-toggleable__control:checked~label.sk-toggleable__label {background-color: #d4ebff;}#sk-container-id-8 input.sk-hidden--visually {border: 0;clip: rect(1px 1px 1px 1px);clip: rect(1px, 1px, 1px, 1px);height: 1px;margin: -1px;overflow: hidden;padding: 0;position: absolute;width: 1px;}#sk-container-id-8 div.sk-estimator {font-family: monospace;background-color: #f0f8ff;border: 1px dotted black;border-radius: 0.25em;box-sizing: border-box;margin-bottom: 0.5em;}#sk-container-id-8 div.sk-estimator:hover {background-color: #d4ebff;}#sk-container-id-8 div.sk-parallel-item::after {content: \"\";width: 100%;border-bottom: 1px solid gray;flex-grow: 1;}#sk-container-id-8 div.sk-label:hover label.sk-toggleable__label {background-color: #d4ebff;}#sk-container-id-8 div.sk-serial::before {content: \"\";position: absolute;border-left: 1px solid gray;box-sizing: border-box;top: 0;bottom: 0;left: 50%;z-index: 0;}#sk-container-id-8 div.sk-serial {display: flex;flex-direction: column;align-items: center;background-color: white;padding-right: 0.2em;padding-left: 0.2em;position: relative;}#sk-container-id-8 div.sk-item {position: relative;z-index: 1;}#sk-container-id-8 div.sk-parallel {display: flex;align-items: stretch;justify-content: center;background-color: white;position: relative;}#sk-container-id-8 div.sk-item::before, #sk-container-id-8 div.sk-parallel-item::before {content: \"\";position: absolute;border-left: 1px solid gray;box-sizing: border-box;top: 0;bottom: 0;left: 50%;z-index: -1;}#sk-container-id-8 div.sk-parallel-item {display: flex;flex-direction: column;z-index: 1;position: relative;background-color: white;}#sk-container-id-8 div.sk-parallel-item:first-child::after {align-self: flex-end;width: 50%;}#sk-container-id-8 div.sk-parallel-item:last-child::after {align-self: flex-start;width: 50%;}#sk-container-id-8 div.sk-parallel-item:only-child::after {width: 0;}#sk-container-id-8 div.sk-dashed-wrapped {border: 1px dashed gray;margin: 0 0.4em 0.5em 0.4em;box-sizing: border-box;padding-bottom: 0.4em;background-color: white;}#sk-container-id-8 div.sk-label label {font-family: monospace;font-weight: bold;display: inline-block;line-height: 1.2em;}#sk-container-id-8 div.sk-label-container {text-align: center;}#sk-container-id-8 div.sk-container {/* jupyter's `normalize.less` sets `[hidden] { display: none; }` but bootstrap.min.css set `[hidden] { display: none !important; }` so we also need the `!important` here to be able to override the default hidden behavior on the sphinx rendered scikit-learn.org. See: https://github.com/scikit-learn/scikit-learn/issues/21755 */display: inline-block !important;position: relative;}#sk-container-id-8 div.sk-text-repr-fallback {display: none;}</style><div id=\"sk-container-id-8\" class=\"sk-top-container\"><div class=\"sk-text-repr-fallback\"><pre>DecisionTreeRegressor(max_depth=10)</pre><b>In a Jupyter environment, please rerun this cell to show the HTML representation or trust the notebook. <br />On GitHub, the HTML representation is unable to render, please try loading this page with nbviewer.org.</b></div><div class=\"sk-container\" hidden><div class=\"sk-item\"><div class=\"sk-estimator sk-toggleable\"><input class=\"sk-toggleable__control sk-hidden--visually\" id=\"sk-estimator-id-8\" type=\"checkbox\" checked><label for=\"sk-estimator-id-8\" class=\"sk-toggleable__label sk-toggleable__label-arrow\">DecisionTreeRegressor</label><div class=\"sk-toggleable__content\"><pre>DecisionTreeRegressor(max_depth=10)</pre></div></div></div></div></div>"
      ],
      "text/plain": [
       "DecisionTreeRegressor(max_depth=10)"
      ]
     },
     "execution_count": 87,
     "metadata": {},
     "output_type": "execute_result"
    }
   ],
   "source": [
    "tree.fit(x_train_st,y_train)"
   ]
  },
  {
   "cell_type": "code",
   "execution_count": 88,
   "metadata": {},
   "outputs": [
    {
     "data": {
      "text/plain": [
       "122.03126977135342"
      ]
     },
     "execution_count": 88,
     "metadata": {},
     "output_type": "execute_result"
    }
   ],
   "source": [
    "pred=tree.predict(x_test_st)\n",
    "np.sqrt(mean_squared_error(y_test,pred))"
   ]
  },
  {
   "cell_type": "code",
   "execution_count": 89,
   "metadata": {},
   "outputs": [
    {
     "data": {
      "text/plain": [
       "-1.24033466808658"
      ]
     },
     "execution_count": 89,
     "metadata": {},
     "output_type": "execute_result"
    }
   ],
   "source": [
    "tree.score(x_test_st, y_test)"
   ]
  },
  {
   "cell_type": "code",
   "execution_count": 90,
   "metadata": {},
   "outputs": [],
   "source": [
    "features=dfhep.drop(columns=[\"hepatitis_b\"])\n",
    "target=dfhep[\"hepatitis_b\"]\n",
    "x_train,x_test,y_train,y_test=train_test_split(features, target, test_size=0.20,random_state=0)"
   ]
  },
  {
   "cell_type": "code",
   "execution_count": 91,
   "metadata": {},
   "outputs": [
    {
     "data": {
      "text/html": [
       "<div>\n",
       "<style scoped>\n",
       "    .dataframe tbody tr th:only-of-type {\n",
       "        vertical-align: middle;\n",
       "    }\n",
       "\n",
       "    .dataframe tbody tr th {\n",
       "        vertical-align: top;\n",
       "    }\n",
       "\n",
       "    .dataframe thead th {\n",
       "        text-align: right;\n",
       "    }\n",
       "</style>\n",
       "<table border=\"1\" class=\"dataframe\">\n",
       "  <thead>\n",
       "    <tr style=\"text-align: right;\">\n",
       "      <th></th>\n",
       "      <th>water_pollution</th>\n",
       "      <th>air_quality</th>\n",
       "      <th>population</th>\n",
       "    </tr>\n",
       "  </thead>\n",
       "  <tbody>\n",
       "    <tr>\n",
       "      <th>0</th>\n",
       "      <td>0.128302</td>\n",
       "      <td>-0.606805</td>\n",
       "      <td>0.952844</td>\n",
       "    </tr>\n",
       "    <tr>\n",
       "      <th>1</th>\n",
       "      <td>-0.666445</td>\n",
       "      <td>0.692768</td>\n",
       "      <td>-0.255893</td>\n",
       "    </tr>\n",
       "    <tr>\n",
       "      <th>2</th>\n",
       "      <td>-1.177507</td>\n",
       "      <td>0.996168</td>\n",
       "      <td>0.180543</td>\n",
       "    </tr>\n",
       "    <tr>\n",
       "      <th>3</th>\n",
       "      <td>0.484919</td>\n",
       "      <td>-0.233354</td>\n",
       "      <td>0.549680</td>\n",
       "    </tr>\n",
       "    <tr>\n",
       "      <th>4</th>\n",
       "      <td>-0.471244</td>\n",
       "      <td>-0.512191</td>\n",
       "      <td>-0.023968</td>\n",
       "    </tr>\n",
       "    <tr>\n",
       "      <th>...</th>\n",
       "      <td>...</td>\n",
       "      <td>...</td>\n",
       "      <td>...</td>\n",
       "    </tr>\n",
       "    <tr>\n",
       "      <th>107</th>\n",
       "      <td>0.307951</td>\n",
       "      <td>-0.810588</td>\n",
       "      <td>-0.277174</td>\n",
       "    </tr>\n",
       "    <tr>\n",
       "      <th>108</th>\n",
       "      <td>-1.134069</td>\n",
       "      <td>-1.109895</td>\n",
       "      <td>-0.268311</td>\n",
       "    </tr>\n",
       "    <tr>\n",
       "      <th>109</th>\n",
       "      <td>-1.908974</td>\n",
       "      <td>1.548385</td>\n",
       "      <td>-0.274431</td>\n",
       "    </tr>\n",
       "    <tr>\n",
       "      <th>110</th>\n",
       "      <td>0.000670</td>\n",
       "      <td>0.105072</td>\n",
       "      <td>0.146242</td>\n",
       "    </tr>\n",
       "    <tr>\n",
       "      <th>111</th>\n",
       "      <td>0.666177</td>\n",
       "      <td>-0.013195</td>\n",
       "      <td>-0.045225</td>\n",
       "    </tr>\n",
       "  </tbody>\n",
       "</table>\n",
       "<p>112 rows × 3 columns</p>\n",
       "</div>"
      ],
      "text/plain": [
       "     water_pollution  air_quality  population\n",
       "0           0.128302    -0.606805    0.952844\n",
       "1          -0.666445     0.692768   -0.255893\n",
       "2          -1.177507     0.996168    0.180543\n",
       "3           0.484919    -0.233354    0.549680\n",
       "4          -0.471244    -0.512191   -0.023968\n",
       "..               ...          ...         ...\n",
       "107         0.307951    -0.810588   -0.277174\n",
       "108        -1.134069    -1.109895   -0.268311\n",
       "109        -1.908974     1.548385   -0.274431\n",
       "110         0.000670     0.105072    0.146242\n",
       "111         0.666177    -0.013195   -0.045225\n",
       "\n",
       "[112 rows x 3 columns]"
      ]
     },
     "execution_count": 91,
     "metadata": {},
     "output_type": "execute_result"
    }
   ],
   "source": [
    "standardizer=StandardScaler()\n",
    "standardizer.fit(x_train)\n",
    "x_train_st = standardizer.transform(x_train)\n",
    "x_test_st= standardizer.transform(x_test)\n",
    "pd.DataFrame(x_train_st, columns=x_train.columns)"
   ]
  },
  {
   "cell_type": "code",
   "execution_count": 92,
   "metadata": {},
   "outputs": [
    {
     "data": {
      "text/html": [
       "<style>#sk-container-id-9 {color: black;background-color: white;}#sk-container-id-9 pre{padding: 0;}#sk-container-id-9 div.sk-toggleable {background-color: white;}#sk-container-id-9 label.sk-toggleable__label {cursor: pointer;display: block;width: 100%;margin-bottom: 0;padding: 0.3em;box-sizing: border-box;text-align: center;}#sk-container-id-9 label.sk-toggleable__label-arrow:before {content: \"▸\";float: left;margin-right: 0.25em;color: #696969;}#sk-container-id-9 label.sk-toggleable__label-arrow:hover:before {color: black;}#sk-container-id-9 div.sk-estimator:hover label.sk-toggleable__label-arrow:before {color: black;}#sk-container-id-9 div.sk-toggleable__content {max-height: 0;max-width: 0;overflow: hidden;text-align: left;background-color: #f0f8ff;}#sk-container-id-9 div.sk-toggleable__content pre {margin: 0.2em;color: black;border-radius: 0.25em;background-color: #f0f8ff;}#sk-container-id-9 input.sk-toggleable__control:checked~div.sk-toggleable__content {max-height: 200px;max-width: 100%;overflow: auto;}#sk-container-id-9 input.sk-toggleable__control:checked~label.sk-toggleable__label-arrow:before {content: \"▾\";}#sk-container-id-9 div.sk-estimator input.sk-toggleable__control:checked~label.sk-toggleable__label {background-color: #d4ebff;}#sk-container-id-9 div.sk-label input.sk-toggleable__control:checked~label.sk-toggleable__label {background-color: #d4ebff;}#sk-container-id-9 input.sk-hidden--visually {border: 0;clip: rect(1px 1px 1px 1px);clip: rect(1px, 1px, 1px, 1px);height: 1px;margin: -1px;overflow: hidden;padding: 0;position: absolute;width: 1px;}#sk-container-id-9 div.sk-estimator {font-family: monospace;background-color: #f0f8ff;border: 1px dotted black;border-radius: 0.25em;box-sizing: border-box;margin-bottom: 0.5em;}#sk-container-id-9 div.sk-estimator:hover {background-color: #d4ebff;}#sk-container-id-9 div.sk-parallel-item::after {content: \"\";width: 100%;border-bottom: 1px solid gray;flex-grow: 1;}#sk-container-id-9 div.sk-label:hover label.sk-toggleable__label {background-color: #d4ebff;}#sk-container-id-9 div.sk-serial::before {content: \"\";position: absolute;border-left: 1px solid gray;box-sizing: border-box;top: 0;bottom: 0;left: 50%;z-index: 0;}#sk-container-id-9 div.sk-serial {display: flex;flex-direction: column;align-items: center;background-color: white;padding-right: 0.2em;padding-left: 0.2em;position: relative;}#sk-container-id-9 div.sk-item {position: relative;z-index: 1;}#sk-container-id-9 div.sk-parallel {display: flex;align-items: stretch;justify-content: center;background-color: white;position: relative;}#sk-container-id-9 div.sk-item::before, #sk-container-id-9 div.sk-parallel-item::before {content: \"\";position: absolute;border-left: 1px solid gray;box-sizing: border-box;top: 0;bottom: 0;left: 50%;z-index: -1;}#sk-container-id-9 div.sk-parallel-item {display: flex;flex-direction: column;z-index: 1;position: relative;background-color: white;}#sk-container-id-9 div.sk-parallel-item:first-child::after {align-self: flex-end;width: 50%;}#sk-container-id-9 div.sk-parallel-item:last-child::after {align-self: flex-start;width: 50%;}#sk-container-id-9 div.sk-parallel-item:only-child::after {width: 0;}#sk-container-id-9 div.sk-dashed-wrapped {border: 1px dashed gray;margin: 0 0.4em 0.5em 0.4em;box-sizing: border-box;padding-bottom: 0.4em;background-color: white;}#sk-container-id-9 div.sk-label label {font-family: monospace;font-weight: bold;display: inline-block;line-height: 1.2em;}#sk-container-id-9 div.sk-label-container {text-align: center;}#sk-container-id-9 div.sk-container {/* jupyter's `normalize.less` sets `[hidden] { display: none; }` but bootstrap.min.css set `[hidden] { display: none !important; }` so we also need the `!important` here to be able to override the default hidden behavior on the sphinx rendered scikit-learn.org. See: https://github.com/scikit-learn/scikit-learn/issues/21755 */display: inline-block !important;position: relative;}#sk-container-id-9 div.sk-text-repr-fallback {display: none;}</style><div id=\"sk-container-id-9\" class=\"sk-top-container\"><div class=\"sk-text-repr-fallback\"><pre>DecisionTreeRegressor(max_depth=10)</pre><b>In a Jupyter environment, please rerun this cell to show the HTML representation or trust the notebook. <br />On GitHub, the HTML representation is unable to render, please try loading this page with nbviewer.org.</b></div><div class=\"sk-container\" hidden><div class=\"sk-item\"><div class=\"sk-estimator sk-toggleable\"><input class=\"sk-toggleable__control sk-hidden--visually\" id=\"sk-estimator-id-9\" type=\"checkbox\" checked><label for=\"sk-estimator-id-9\" class=\"sk-toggleable__label sk-toggleable__label-arrow\">DecisionTreeRegressor</label><div class=\"sk-toggleable__content\"><pre>DecisionTreeRegressor(max_depth=10)</pre></div></div></div></div></div>"
      ],
      "text/plain": [
       "DecisionTreeRegressor(max_depth=10)"
      ]
     },
     "execution_count": 92,
     "metadata": {},
     "output_type": "execute_result"
    }
   ],
   "source": [
    "tree.fit(x_train_st,y_train)"
   ]
  },
  {
   "cell_type": "code",
   "execution_count": 93,
   "metadata": {},
   "outputs": [
    {
     "data": {
      "text/plain": [
       "24.0459035120282"
      ]
     },
     "execution_count": 93,
     "metadata": {},
     "output_type": "execute_result"
    }
   ],
   "source": [
    "pred=tree.predict(x_test_st)\n",
    "np.sqrt(mean_squared_error(y_test,pred))"
   ]
  },
  {
   "cell_type": "code",
   "execution_count": 94,
   "metadata": {},
   "outputs": [
    {
     "data": {
      "text/plain": [
       "-0.7145650286674632"
      ]
     },
     "execution_count": 94,
     "metadata": {},
     "output_type": "execute_result"
    }
   ],
   "source": [
    "tree.score(x_test_st, y_test)"
   ]
  },
  {
   "cell_type": "code",
   "execution_count": null,
   "metadata": {},
   "outputs": [],
   "source": []
  }
 ],
 "metadata": {
  "kernelspec": {
   "display_name": "base",
   "language": "python",
   "name": "python3"
  },
  "language_info": {
   "codemirror_mode": {
    "name": "ipython",
    "version": 3
   },
   "file_extension": ".py",
   "mimetype": "text/x-python",
   "name": "python",
   "nbconvert_exporter": "python",
   "pygments_lexer": "ipython3",
   "version": "3.11.7"
  }
 },
 "nbformat": 4,
 "nbformat_minor": 2
}
